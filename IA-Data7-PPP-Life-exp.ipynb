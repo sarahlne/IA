{
 "cells": [
  {
   "cell_type": "markdown",
   "metadata": {},
   "source": [
    "# Importation de libraries"
   ]
  },
  {
   "cell_type": "code",
   "execution_count": 1,
   "metadata": {},
   "outputs": [
    {
     "ename": "ImportError",
     "evalue": "cannot import name 'plot_tree' from 'sklearn.tree' (C:\\Users\\Sarah\\Anaconda3\\lib\\site-packages\\sklearn\\tree\\__init__.py)",
     "output_type": "error",
     "traceback": [
      "\u001b[1;31m---------------------------------------------------------------------------\u001b[0m",
      "\u001b[1;31mImportError\u001b[0m                               Traceback (most recent call last)",
      "\u001b[1;32m<ipython-input-1-345b7f8d4a8c>\u001b[0m in \u001b[0;36m<module>\u001b[1;34m()\u001b[0m\n\u001b[0;32m     15\u001b[0m \u001b[1;32mfrom\u001b[0m \u001b[0msklearn\u001b[0m\u001b[1;33m.\u001b[0m\u001b[0mmetrics\u001b[0m \u001b[1;32mimport\u001b[0m \u001b[0mf1_score\u001b[0m\u001b[1;33m\u001b[0m\u001b[0m\n\u001b[0;32m     16\u001b[0m \u001b[1;32mfrom\u001b[0m \u001b[0msklearn\u001b[0m\u001b[1;33m.\u001b[0m\u001b[0mmetrics\u001b[0m \u001b[1;32mimport\u001b[0m \u001b[0mclassification_report\u001b[0m\u001b[1;33m\u001b[0m\u001b[0m\n\u001b[1;32m---> 17\u001b[1;33m \u001b[1;32mfrom\u001b[0m \u001b[0msklearn\u001b[0m\u001b[1;33m.\u001b[0m\u001b[0mtree\u001b[0m \u001b[1;32mimport\u001b[0m \u001b[0mplot_tree\u001b[0m\u001b[1;33m\u001b[0m\u001b[0m\n\u001b[0m\u001b[0;32m     18\u001b[0m \u001b[1;32mfrom\u001b[0m \u001b[0msklearn\u001b[0m\u001b[1;33m.\u001b[0m\u001b[0mtree\u001b[0m \u001b[1;32mimport\u001b[0m \u001b[0mexport_graphviz\u001b[0m\u001b[1;33m\u001b[0m\u001b[0m\n\u001b[0;32m     19\u001b[0m \u001b[1;32mimport\u001b[0m \u001b[0mgraphviz\u001b[0m\u001b[1;33m\u001b[0m\u001b[0m\n",
      "\u001b[1;31mImportError\u001b[0m: cannot import name 'plot_tree' from 'sklearn.tree' (C:\\Users\\Sarah\\Anaconda3\\lib\\site-packages\\sklearn\\tree\\__init__.py)"
     ]
    }
   ],
   "source": [
    "import pandas as pd\n",
    "import seaborn as sns\n",
    "import matplotlib.pyplot as plt\n",
    "import numpy as np\n",
    "from scipy.stats import zscore\n",
    "from sklearn.cluster import KMeans #importation de Kmeans\n",
    "from sklearn.model_selection import train_test_split \n",
    "from collections import Counter\n",
    "from sklearn import tree\n",
    "from sklearn.model_selection import StratifiedKFold\n",
    "from sklearn.model_selection import cross_validate \n",
    "from sklearn.metrics import accuracy_score\n",
    "from sklearn.metrics import precision_score\n",
    "from sklearn.metrics import recall_score\n",
    "from sklearn.metrics import f1_score\n",
    "from sklearn.metrics import classification_report\n",
    "from sklearn.tree import plot_tree\n",
    "from sklearn.tree import export_graphviz\n",
    "import graphviz"
   ]
  },
  {
   "cell_type": "code",
   "execution_count": 3,
   "metadata": {},
   "outputs": [],
   "source": [
    "dataF = pd.read_csv(\"Data7.txt\",sep=\"\\t\")"
   ]
  },
  {
   "cell_type": "markdown",
   "metadata": {},
   "source": [
    "# Attribute selection"
   ]
  },
  {
   "cell_type": "code",
   "execution_count": 4,
   "metadata": {},
   "outputs": [
    {
     "data": {
      "text/plain": [
       "Time                                                                                                             3\n",
       "Country Name                                                                                                     5\n",
       "GDP per capita, PPP (current international $)                                                                   27\n",
       "Suicide mortality rate (per 100,000 population)                                                                 39\n",
       "Renewable energy consumption (% of total final energy consumption)                                              11\n",
       "Terrestrial and marine protected areas (% of total territorial area)                                           222\n",
       "Forest area (% of land area)                                                                                    13\n",
       "Total natural resources rents (% of GDP)                                                                        19\n",
       "Life expectancy at birth, total (years)                                                                         22\n",
       "Probability of dying at age 5-14 years (per 1,000 children age 5)                                               29\n",
       "Mortality rate attributed to household and ambient air pollution, age-standardized (per 100,000 population)    222\n",
       "PM2.5 air pollution, mean annual exposure (micrograms per cubic meter)                                          28\n",
       "Fertility rate, total (births per woman)                                                                        21\n",
       "Maternal mortality ratio (national estimate, per 100,000 live births)                                          173\n",
       "Birth rate, crude (per 1,000 people)                                                                            15\n",
       "Refugee population by country or territory of origin                                                            31\n",
       "Refugee population by country or territory of asylum                                                            58\n",
       "International migrant stock (% of population)                                                                    7\n",
       "CO2 emissions (kt)                                                                                              19\n",
       "Methane emissions (kt of CO2 equivalent)                                                                        16\n",
       "Armed forces personnel, total                                                                                   54\n",
       "Military expenditure (% of GDP)                                                                                 72\n",
       "dtype: int64"
      ]
     },
     "execution_count": 4,
     "metadata": {},
     "output_type": "execute_result"
    }
   ],
   "source": [
    "dataF.isna().sum()"
   ]
  },
  {
   "cell_type": "code",
   "execution_count": 5,
   "metadata": {},
   "outputs": [],
   "source": [
    "dataF = dataF.drop(['Time',\n",
    "                    'Terrestrial and marine protected areas (% of total territorial area)',\n",
    "                    'Mortality rate attributed to household and ambient air pollution, age-standardized (per 100,000 population)',\n",
    "                    'Military expenditure (% of GDP)','Armed forces personnel, total',\n",
    "                    'Maternal mortality ratio (national estimate, per 100,000 live births)',\n",
    "                    'Refugee population by country or territory of asylum'], axis = 1)"
   ]
  },
  {
   "cell_type": "markdown",
   "metadata": {},
   "source": [
    "# Object selection"
   ]
  },
  {
   "cell_type": "code",
   "execution_count": 6,
   "metadata": {},
   "outputs": [
    {
     "data": {
      "text/html": [
       "<div>\n",
       "<style scoped>\n",
       "    .dataframe tbody tr th:only-of-type {\n",
       "        vertical-align: middle;\n",
       "    }\n",
       "\n",
       "    .dataframe tbody tr th {\n",
       "        vertical-align: top;\n",
       "    }\n",
       "\n",
       "    .dataframe thead th {\n",
       "        text-align: right;\n",
       "    }\n",
       "</style>\n",
       "<table border=\"1\" class=\"dataframe\">\n",
       "  <thead>\n",
       "    <tr style=\"text-align: right;\">\n",
       "      <th></th>\n",
       "      <th>Country Name</th>\n",
       "      <th>GDP per capita, PPP (current international $)</th>\n",
       "      <th>Suicide mortality rate (per 100,000 population)</th>\n",
       "      <th>Renewable energy consumption (% of total final energy consumption)</th>\n",
       "      <th>Forest area (% of land area)</th>\n",
       "      <th>Total natural resources rents (% of GDP)</th>\n",
       "      <th>Life expectancy at birth, total (years)</th>\n",
       "      <th>Probability of dying at age 5-14 years (per 1,000 children age 5)</th>\n",
       "      <th>PM2.5 air pollution, mean annual exposure (micrograms per cubic meter)</th>\n",
       "      <th>Fertility rate, total (births per woman)</th>\n",
       "      <th>Birth rate, crude (per 1,000 people)</th>\n",
       "      <th>Refugee population by country or territory of origin</th>\n",
       "      <th>International migrant stock (% of population)</th>\n",
       "      <th>CO2 emissions (kt)</th>\n",
       "      <th>Methane emissions (kt of CO2 equivalent)</th>\n",
       "    </tr>\n",
       "  </thead>\n",
       "  <tbody>\n",
       "    <tr>\n",
       "      <th>0</th>\n",
       "      <td>Afghanistan</td>\n",
       "      <td>1637.377987</td>\n",
       "      <td>5.1</td>\n",
       "      <td>14.839806</td>\n",
       "      <td>2.067825</td>\n",
       "      <td>0.588007</td>\n",
       "      <td>61.028</td>\n",
       "      <td>10.0</td>\n",
       "      <td>65.245592</td>\n",
       "      <td>5.977</td>\n",
       "      <td>39.829</td>\n",
       "      <td>3054709.0</td>\n",
       "      <td>0.365658</td>\n",
       "      <td>8463.436</td>\n",
       "      <td>13493.3000</td>\n",
       "    </tr>\n",
       "    <tr>\n",
       "      <th>1</th>\n",
       "      <td>Albania</td>\n",
       "      <td>9628.025783</td>\n",
       "      <td>7.8</td>\n",
       "      <td>37.115330</td>\n",
       "      <td>28.332116</td>\n",
       "      <td>2.033753</td>\n",
       "      <td>76.562</td>\n",
       "      <td>2.6</td>\n",
       "      <td>21.277828</td>\n",
       "      <td>1.660</td>\n",
       "      <td>12.001</td>\n",
       "      <td>14772.0</td>\n",
       "      <td>1.818957</td>\n",
       "      <td>4598.418</td>\n",
       "      <td>2592.3700</td>\n",
       "    </tr>\n",
       "    <tr>\n",
       "      <th>2</th>\n",
       "      <td>Algeria</td>\n",
       "      <td>12655.137410</td>\n",
       "      <td>3.3</td>\n",
       "      <td>0.258072</td>\n",
       "      <td>0.805294</td>\n",
       "      <td>26.917567</td>\n",
       "      <td>74.938</td>\n",
       "      <td>4.3</td>\n",
       "      <td>33.635820</td>\n",
       "      <td>2.860</td>\n",
       "      <td>24.504</td>\n",
       "      <td>6689.0</td>\n",
       "      <td>0.679773</td>\n",
       "      <td>119177.500</td>\n",
       "      <td>47575.5000</td>\n",
       "    </tr>\n",
       "    <tr>\n",
       "      <th>3</th>\n",
       "      <td>Angola</td>\n",
       "      <td>6230.297028</td>\n",
       "      <td>5.7</td>\n",
       "      <td>54.193837</td>\n",
       "      <td>46.907837</td>\n",
       "      <td>39.003947</td>\n",
       "      <td>55.350</td>\n",
       "      <td>24.6</td>\n",
       "      <td>33.787247</td>\n",
       "      <td>6.194</td>\n",
       "      <td>45.656</td>\n",
       "      <td>134858.0</td>\n",
       "      <td>0.360741</td>\n",
       "      <td>29057.308</td>\n",
       "      <td>18602.4000</td>\n",
       "    </tr>\n",
       "    <tr>\n",
       "      <th>4</th>\n",
       "      <td>Antigua and Barbuda</td>\n",
       "      <td>20134.817247</td>\n",
       "      <td>0.3</td>\n",
       "      <td>0.000000</td>\n",
       "      <td>22.272728</td>\n",
       "      <td>0.000000</td>\n",
       "      <td>75.823</td>\n",
       "      <td>2.0</td>\n",
       "      <td>22.528876</td>\n",
       "      <td>1.988</td>\n",
       "      <td>16.547</td>\n",
       "      <td>30.0</td>\n",
       "      <td>30.277533</td>\n",
       "      <td>524.381</td>\n",
       "      <td>42.4249</td>\n",
       "    </tr>\n",
       "  </tbody>\n",
       "</table>\n",
       "</div>"
      ],
      "text/plain": [
       "          Country Name  GDP per capita, PPP (current international $)  \\\n",
       "0          Afghanistan                                    1637.377987   \n",
       "1              Albania                                    9628.025783   \n",
       "2              Algeria                                   12655.137410   \n",
       "3               Angola                                    6230.297028   \n",
       "4  Antigua and Barbuda                                   20134.817247   \n",
       "\n",
       "   Suicide mortality rate (per 100,000 population)  \\\n",
       "0                                              5.1   \n",
       "1                                              7.8   \n",
       "2                                              3.3   \n",
       "3                                              5.7   \n",
       "4                                              0.3   \n",
       "\n",
       "   Renewable energy consumption (% of total final energy consumption)  \\\n",
       "0                                          14.839806                    \n",
       "1                                          37.115330                    \n",
       "2                                           0.258072                    \n",
       "3                                          54.193837                    \n",
       "4                                           0.000000                    \n",
       "\n",
       "   Forest area (% of land area)  Total natural resources rents (% of GDP)  \\\n",
       "0                      2.067825                                  0.588007   \n",
       "1                     28.332116                                  2.033753   \n",
       "2                      0.805294                                 26.917567   \n",
       "3                     46.907837                                 39.003947   \n",
       "4                     22.272728                                  0.000000   \n",
       "\n",
       "   Life expectancy at birth, total (years)  \\\n",
       "0                                   61.028   \n",
       "1                                   76.562   \n",
       "2                                   74.938   \n",
       "3                                   55.350   \n",
       "4                                   75.823   \n",
       "\n",
       "   Probability of dying at age 5-14 years (per 1,000 children age 5)  \\\n",
       "0                                               10.0                   \n",
       "1                                                2.6                   \n",
       "2                                                4.3                   \n",
       "3                                               24.6                   \n",
       "4                                                2.0                   \n",
       "\n",
       "   PM2.5 air pollution, mean annual exposure (micrograms per cubic meter)  \\\n",
       "0                                          65.245592                        \n",
       "1                                          21.277828                        \n",
       "2                                          33.635820                        \n",
       "3                                          33.787247                        \n",
       "4                                          22.528876                        \n",
       "\n",
       "   Fertility rate, total (births per woman)  \\\n",
       "0                                     5.977   \n",
       "1                                     1.660   \n",
       "2                                     2.860   \n",
       "3                                     6.194   \n",
       "4                                     1.988   \n",
       "\n",
       "   Birth rate, crude (per 1,000 people)  \\\n",
       "0                                39.829   \n",
       "1                                12.001   \n",
       "2                                24.504   \n",
       "3                                45.656   \n",
       "4                                16.547   \n",
       "\n",
       "   Refugee population by country or territory of origin  \\\n",
       "0                                          3054709.0      \n",
       "1                                            14772.0      \n",
       "2                                             6689.0      \n",
       "3                                           134858.0      \n",
       "4                                               30.0      \n",
       "\n",
       "   International migrant stock (% of population)  CO2 emissions (kt)  \\\n",
       "0                                       0.365658            8463.436   \n",
       "1                                       1.818957            4598.418   \n",
       "2                                       0.679773          119177.500   \n",
       "3                                       0.360741           29057.308   \n",
       "4                                      30.277533             524.381   \n",
       "\n",
       "   Methane emissions (kt of CO2 equivalent)  \n",
       "0                                13493.3000  \n",
       "1                                 2592.3700  \n",
       "2                                47575.5000  \n",
       "3                                18602.4000  \n",
       "4                                   42.4249  "
      ]
     },
     "execution_count": 6,
     "metadata": {},
     "output_type": "execute_result"
    }
   ],
   "source": [
    "dataF=dataF.dropna(axis=0)\n",
    "dataF = dataF.reset_index(drop=True) # to regenerate consecutive integer row names\n",
    "dataF.head()"
   ]
  },
  {
   "cell_type": "code",
   "execution_count": 7,
   "metadata": {},
   "outputs": [
    {
     "data": {
      "text/html": [
       "<style  type=\"text/css\" >\n",
       "    #T_18333402_2827_11ea_b8cc_107b4462da89row0_col0 {\n",
       "            background-color:  #b40426;\n",
       "        }    #T_18333402_2827_11ea_b8cc_107b4462da89row0_col1 {\n",
       "            background-color:  #b6cefa;\n",
       "        }    #T_18333402_2827_11ea_b8cc_107b4462da89row0_col2 {\n",
       "            background-color:  #5875e1;\n",
       "        }    #T_18333402_2827_11ea_b8cc_107b4462da89row0_col3 {\n",
       "            background-color:  #7597f6;\n",
       "        }    #T_18333402_2827_11ea_b8cc_107b4462da89row0_col4 {\n",
       "            background-color:  #98b9ff;\n",
       "        }    #T_18333402_2827_11ea_b8cc_107b4462da89row0_col5 {\n",
       "            background-color:  #ef886b;\n",
       "        }    #T_18333402_2827_11ea_b8cc_107b4462da89row0_col6 {\n",
       "            background-color:  #688aef;\n",
       "        }    #T_18333402_2827_11ea_b8cc_107b4462da89row0_col7 {\n",
       "            background-color:  #6788ee;\n",
       "        }    #T_18333402_2827_11ea_b8cc_107b4462da89row0_col8 {\n",
       "            background-color:  #7093f3;\n",
       "        }    #T_18333402_2827_11ea_b8cc_107b4462da89row0_col9 {\n",
       "            background-color:  #6b8df0;\n",
       "        }    #T_18333402_2827_11ea_b8cc_107b4462da89row0_col10 {\n",
       "            background-color:  #3b4cc0;\n",
       "        }    #T_18333402_2827_11ea_b8cc_107b4462da89row0_col11 {\n",
       "            background-color:  #ed8366;\n",
       "        }    #T_18333402_2827_11ea_b8cc_107b4462da89row0_col12 {\n",
       "            background-color:  #88abfd;\n",
       "        }    #T_18333402_2827_11ea_b8cc_107b4462da89row0_col13 {\n",
       "            background-color:  #6180e9;\n",
       "        }    #T_18333402_2827_11ea_b8cc_107b4462da89row1_col0 {\n",
       "            background-color:  #d1dae9;\n",
       "        }    #T_18333402_2827_11ea_b8cc_107b4462da89row1_col1 {\n",
       "            background-color:  #b40426;\n",
       "        }    #T_18333402_2827_11ea_b8cc_107b4462da89row1_col2 {\n",
       "            background-color:  #a3c2fe;\n",
       "        }    #T_18333402_2827_11ea_b8cc_107b4462da89row1_col3 {\n",
       "            background-color:  #b1cbfc;\n",
       "        }    #T_18333402_2827_11ea_b8cc_107b4462da89row1_col4 {\n",
       "            background-color:  #5f7fe8;\n",
       "        }    #T_18333402_2827_11ea_b8cc_107b4462da89row1_col5 {\n",
       "            background-color:  #e4d9d2;\n",
       "        }    #T_18333402_2827_11ea_b8cc_107b4462da89row1_col6 {\n",
       "            background-color:  #9bbcff;\n",
       "        }    #T_18333402_2827_11ea_b8cc_107b4462da89row1_col7 {\n",
       "            background-color:  #516ddb;\n",
       "        }    #T_18333402_2827_11ea_b8cc_107b4462da89row1_col8 {\n",
       "            background-color:  #94b6ff;\n",
       "        }    #T_18333402_2827_11ea_b8cc_107b4462da89row1_col9 {\n",
       "            background-color:  #94b6ff;\n",
       "        }    #T_18333402_2827_11ea_b8cc_107b4462da89row1_col10 {\n",
       "            background-color:  #4257c9;\n",
       "        }    #T_18333402_2827_11ea_b8cc_107b4462da89row1_col11 {\n",
       "            background-color:  #84a7fc;\n",
       "        }    #T_18333402_2827_11ea_b8cc_107b4462da89row1_col12 {\n",
       "            background-color:  #8db0fe;\n",
       "        }    #T_18333402_2827_11ea_b8cc_107b4462da89row1_col13 {\n",
       "            background-color:  #7ea1fa;\n",
       "        }    #T_18333402_2827_11ea_b8cc_107b4462da89row2_col0 {\n",
       "            background-color:  #485fd1;\n",
       "        }    #T_18333402_2827_11ea_b8cc_107b4462da89row2_col1 {\n",
       "            background-color:  #6c8ff1;\n",
       "        }    #T_18333402_2827_11ea_b8cc_107b4462da89row2_col2 {\n",
       "            background-color:  #b40426;\n",
       "        }    #T_18333402_2827_11ea_b8cc_107b4462da89row2_col3 {\n",
       "            background-color:  #bbd1f8;\n",
       "        }    #T_18333402_2827_11ea_b8cc_107b4462da89row2_col4 {\n",
       "            background-color:  #90b2fe;\n",
       "        }    #T_18333402_2827_11ea_b8cc_107b4462da89row2_col5 {\n",
       "            background-color:  #5a78e4;\n",
       "        }    #T_18333402_2827_11ea_b8cc_107b4462da89row2_col6 {\n",
       "            background-color:  #f7af91;\n",
       "        }    #T_18333402_2827_11ea_b8cc_107b4462da89row2_col7 {\n",
       "            background-color:  #afcafc;\n",
       "        }    #T_18333402_2827_11ea_b8cc_107b4462da89row2_col8 {\n",
       "            background-color:  #ea7b60;\n",
       "        }    #T_18333402_2827_11ea_b8cc_107b4462da89row2_col9 {\n",
       "            background-color:  #e97a5f;\n",
       "        }    #T_18333402_2827_11ea_b8cc_107b4462da89row2_col10 {\n",
       "            background-color:  #5572df;\n",
       "        }    #T_18333402_2827_11ea_b8cc_107b4462da89row2_col11 {\n",
       "            background-color:  #3b4cc0;\n",
       "        }    #T_18333402_2827_11ea_b8cc_107b4462da89row2_col12 {\n",
       "            background-color:  #4055c8;\n",
       "        }    #T_18333402_2827_11ea_b8cc_107b4462da89row2_col13 {\n",
       "            background-color:  #465ecf;\n",
       "        }    #T_18333402_2827_11ea_b8cc_107b4462da89row3_col0 {\n",
       "            background-color:  #a5c3fe;\n",
       "        }    #T_18333402_2827_11ea_b8cc_107b4462da89row3_col1 {\n",
       "            background-color:  #b7cff9;\n",
       "        }    #T_18333402_2827_11ea_b8cc_107b4462da89row3_col2 {\n",
       "            background-color:  #e1dad6;\n",
       "        }    #T_18333402_2827_11ea_b8cc_107b4462da89row3_col3 {\n",
       "            background-color:  #b40426;\n",
       "        }    #T_18333402_2827_11ea_b8cc_107b4462da89row3_col4 {\n",
       "            background-color:  #7da0f9;\n",
       "        }    #T_18333402_2827_11ea_b8cc_107b4462da89row3_col5 {\n",
       "            background-color:  #d3dbe7;\n",
       "        }    #T_18333402_2827_11ea_b8cc_107b4462da89row3_col6 {\n",
       "            background-color:  #a3c2fe;\n",
       "        }    #T_18333402_2827_11ea_b8cc_107b4462da89row3_col7 {\n",
       "            background-color:  #3b4cc0;\n",
       "        }    #T_18333402_2827_11ea_b8cc_107b4462da89row3_col8 {\n",
       "            background-color:  #c7d7f0;\n",
       "        }    #T_18333402_2827_11ea_b8cc_107b4462da89row3_col9 {\n",
       "            background-color:  #cad8ef;\n",
       "        }    #T_18333402_2827_11ea_b8cc_107b4462da89row3_col10 {\n",
       "            background-color:  #3c4ec2;\n",
       "        }    #T_18333402_2827_11ea_b8cc_107b4462da89row3_col11 {\n",
       "            background-color:  #5f7fe8;\n",
       "        }    #T_18333402_2827_11ea_b8cc_107b4462da89row3_col12 {\n",
       "            background-color:  #6282ea;\n",
       "        }    #T_18333402_2827_11ea_b8cc_107b4462da89row3_col13 {\n",
       "            background-color:  #5673e0;\n",
       "        }    #T_18333402_2827_11ea_b8cc_107b4462da89row4_col0 {\n",
       "            background-color:  #c3d5f4;\n",
       "        }    #T_18333402_2827_11ea_b8cc_107b4462da89row4_col1 {\n",
       "            background-color:  #6b8df0;\n",
       "        }    #T_18333402_2827_11ea_b8cc_107b4462da89row4_col2 {\n",
       "            background-color:  #c7d7f0;\n",
       "        }    #T_18333402_2827_11ea_b8cc_107b4462da89row4_col3 {\n",
       "            background-color:  #7ea1fa;\n",
       "        }    #T_18333402_2827_11ea_b8cc_107b4462da89row4_col4 {\n",
       "            background-color:  #b40426;\n",
       "        }    #T_18333402_2827_11ea_b8cc_107b4462da89row4_col5 {\n",
       "            background-color:  #9fbfff;\n",
       "        }    #T_18333402_2827_11ea_b8cc_107b4462da89row4_col6 {\n",
       "            background-color:  #cdd9ec;\n",
       "        }    #T_18333402_2827_11ea_b8cc_107b4462da89row4_col7 {\n",
       "            background-color:  #dcdddd;\n",
       "        }    #T_18333402_2827_11ea_b8cc_107b4462da89row4_col8 {\n",
       "            background-color:  #f6bda2;\n",
       "        }    #T_18333402_2827_11ea_b8cc_107b4462da89row4_col9 {\n",
       "            background-color:  #f7b89c;\n",
       "        }    #T_18333402_2827_11ea_b8cc_107b4462da89row4_col10 {\n",
       "            background-color:  #6e90f2;\n",
       "        }    #T_18333402_2827_11ea_b8cc_107b4462da89row4_col11 {\n",
       "            background-color:  #b6cefa;\n",
       "        }    #T_18333402_2827_11ea_b8cc_107b4462da89row4_col12 {\n",
       "            background-color:  #5b7ae5;\n",
       "        }    #T_18333402_2827_11ea_b8cc_107b4462da89row4_col13 {\n",
       "            background-color:  #5673e0;\n",
       "        }    #T_18333402_2827_11ea_b8cc_107b4462da89row5_col0 {\n",
       "            background-color:  #f4987a;\n",
       "        }    #T_18333402_2827_11ea_b8cc_107b4462da89row5_col1 {\n",
       "            background-color:  #b2ccfb;\n",
       "        }    #T_18333402_2827_11ea_b8cc_107b4462da89row5_col2 {\n",
       "            background-color:  #3b4cc0;\n",
       "        }    #T_18333402_2827_11ea_b8cc_107b4462da89row5_col3 {\n",
       "            background-color:  #89acfd;\n",
       "        }    #T_18333402_2827_11ea_b8cc_107b4462da89row5_col4 {\n",
       "            background-color:  #3b4cc0;\n",
       "        }    #T_18333402_2827_11ea_b8cc_107b4462da89row5_col5 {\n",
       "            background-color:  #b40426;\n",
       "        }    #T_18333402_2827_11ea_b8cc_107b4462da89row5_col6 {\n",
       "            background-color:  #3b4cc0;\n",
       "        }    #T_18333402_2827_11ea_b8cc_107b4462da89row5_col7 {\n",
       "            background-color:  #3b4cc0;\n",
       "        }    #T_18333402_2827_11ea_b8cc_107b4462da89row5_col8 {\n",
       "            background-color:  #3b4cc0;\n",
       "        }    #T_18333402_2827_11ea_b8cc_107b4462da89row5_col9 {\n",
       "            background-color:  #3b4cc0;\n",
       "        }    #T_18333402_2827_11ea_b8cc_107b4462da89row5_col10 {\n",
       "            background-color:  #3b4cc0;\n",
       "        }    #T_18333402_2827_11ea_b8cc_107b4462da89row5_col11 {\n",
       "            background-color:  #e4d9d2;\n",
       "        }    #T_18333402_2827_11ea_b8cc_107b4462da89row5_col12 {\n",
       "            background-color:  #90b2fe;\n",
       "        }    #T_18333402_2827_11ea_b8cc_107b4462da89row5_col13 {\n",
       "            background-color:  #7093f3;\n",
       "        }    #T_18333402_2827_11ea_b8cc_107b4462da89row6_col0 {\n",
       "            background-color:  #6a8bef;\n",
       "        }    #T_18333402_2827_11ea_b8cc_107b4462da89row6_col1 {\n",
       "            background-color:  #7597f6;\n",
       "        }    #T_18333402_2827_11ea_b8cc_107b4462da89row6_col2 {\n",
       "            background-color:  #f7a889;\n",
       "        }    #T_18333402_2827_11ea_b8cc_107b4462da89row6_col3 {\n",
       "            background-color:  #7597f6;\n",
       "        }    #T_18333402_2827_11ea_b8cc_107b4462da89row6_col4 {\n",
       "            background-color:  #a7c5fe;\n",
       "        }    #T_18333402_2827_11ea_b8cc_107b4462da89row6_col5 {\n",
       "            background-color:  #6c8ff1;\n",
       "        }    #T_18333402_2827_11ea_b8cc_107b4462da89row6_col6 {\n",
       "            background-color:  #b40426;\n",
       "        }    #T_18333402_2827_11ea_b8cc_107b4462da89row6_col7 {\n",
       "            background-color:  #afcafc;\n",
       "        }    #T_18333402_2827_11ea_b8cc_107b4462da89row6_col8 {\n",
       "            background-color:  #f4987a;\n",
       "        }    #T_18333402_2827_11ea_b8cc_107b4462da89row6_col9 {\n",
       "            background-color:  #f39778;\n",
       "        }    #T_18333402_2827_11ea_b8cc_107b4462da89row6_col10 {\n",
       "            background-color:  #6384eb;\n",
       "        }    #T_18333402_2827_11ea_b8cc_107b4462da89row6_col11 {\n",
       "            background-color:  #5e7de7;\n",
       "        }    #T_18333402_2827_11ea_b8cc_107b4462da89row6_col12 {\n",
       "            background-color:  #516ddb;\n",
       "        }    #T_18333402_2827_11ea_b8cc_107b4462da89row6_col13 {\n",
       "            background-color:  #4e68d8;\n",
       "        }    #T_18333402_2827_11ea_b8cc_107b4462da89row7_col0 {\n",
       "            background-color:  #98b9ff;\n",
       "        }    #T_18333402_2827_11ea_b8cc_107b4462da89row7_col1 {\n",
       "            background-color:  #5a78e4;\n",
       "        }    #T_18333402_2827_11ea_b8cc_107b4462da89row7_col2 {\n",
       "            background-color:  #d9dce1;\n",
       "        }    #T_18333402_2827_11ea_b8cc_107b4462da89row7_col3 {\n",
       "            background-color:  #3b4cc0;\n",
       "        }    #T_18333402_2827_11ea_b8cc_107b4462da89row7_col4 {\n",
       "            background-color:  #dbdcde;\n",
       "        }    #T_18333402_2827_11ea_b8cc_107b4462da89row7_col5 {\n",
       "            background-color:  #9dbdff;\n",
       "        }    #T_18333402_2827_11ea_b8cc_107b4462da89row7_col6 {\n",
       "            background-color:  #d2dbe8;\n",
       "        }    #T_18333402_2827_11ea_b8cc_107b4462da89row7_col7 {\n",
       "            background-color:  #b40426;\n",
       "        }    #T_18333402_2827_11ea_b8cc_107b4462da89row7_col8 {\n",
       "            background-color:  #f4c5ad;\n",
       "        }    #T_18333402_2827_11ea_b8cc_107b4462da89row7_col9 {\n",
       "            background-color:  #f6bfa6;\n",
       "        }    #T_18333402_2827_11ea_b8cc_107b4462da89row7_col10 {\n",
       "            background-color:  #abc8fd;\n",
       "        }    #T_18333402_2827_11ea_b8cc_107b4462da89row7_col11 {\n",
       "            background-color:  #a9c6fd;\n",
       "        }    #T_18333402_2827_11ea_b8cc_107b4462da89row7_col12 {\n",
       "            background-color:  #90b2fe;\n",
       "        }    #T_18333402_2827_11ea_b8cc_107b4462da89row7_col13 {\n",
       "            background-color:  #a3c2fe;\n",
       "        }    #T_18333402_2827_11ea_b8cc_107b4462da89row8_col0 {\n",
       "            background-color:  #465ecf;\n",
       "        }    #T_18333402_2827_11ea_b8cc_107b4462da89row8_col1 {\n",
       "            background-color:  #4055c8;\n",
       "        }    #T_18333402_2827_11ea_b8cc_107b4462da89row8_col2 {\n",
       "            background-color:  #ed8366;\n",
       "        }    #T_18333402_2827_11ea_b8cc_107b4462da89row8_col3 {\n",
       "            background-color:  #7b9ff9;\n",
       "        }    #T_18333402_2827_11ea_b8cc_107b4462da89row8_col4 {\n",
       "            background-color:  #dfdbd9;\n",
       "        }    #T_18333402_2827_11ea_b8cc_107b4462da89row8_col5 {\n",
       "            background-color:  #4055c8;\n",
       "        }    #T_18333402_2827_11ea_b8cc_107b4462da89row8_col6 {\n",
       "            background-color:  #f7a98b;\n",
       "        }    #T_18333402_2827_11ea_b8cc_107b4462da89row8_col7 {\n",
       "            background-color:  #d7dce3;\n",
       "        }    #T_18333402_2827_11ea_b8cc_107b4462da89row8_col8 {\n",
       "            background-color:  #b40426;\n",
       "        }    #T_18333402_2827_11ea_b8cc_107b4462da89row8_col9 {\n",
       "            background-color:  #b70d28;\n",
       "        }    #T_18333402_2827_11ea_b8cc_107b4462da89row8_col10 {\n",
       "            background-color:  #96b7ff;\n",
       "        }    #T_18333402_2827_11ea_b8cc_107b4462da89row8_col11 {\n",
       "            background-color:  #4e68d8;\n",
       "        }    #T_18333402_2827_11ea_b8cc_107b4462da89row8_col12 {\n",
       "            background-color:  #3e51c5;\n",
       "        }    #T_18333402_2827_11ea_b8cc_107b4462da89row8_col13 {\n",
       "            background-color:  #3b4cc0;\n",
       "        }    #T_18333402_2827_11ea_b8cc_107b4462da89row9_col0 {\n",
       "            background-color:  #3b4cc0;\n",
       "        }    #T_18333402_2827_11ea_b8cc_107b4462da89row9_col1 {\n",
       "            background-color:  #3b4cc0;\n",
       "        }    #T_18333402_2827_11ea_b8cc_107b4462da89row9_col2 {\n",
       "            background-color:  #ed8366;\n",
       "        }    #T_18333402_2827_11ea_b8cc_107b4462da89row9_col3 {\n",
       "            background-color:  #7a9df8;\n",
       "        }    #T_18333402_2827_11ea_b8cc_107b4462da89row9_col4 {\n",
       "            background-color:  #e2dad5;\n",
       "        }    #T_18333402_2827_11ea_b8cc_107b4462da89row9_col5 {\n",
       "            background-color:  #3b4cc0;\n",
       "        }    #T_18333402_2827_11ea_b8cc_107b4462da89row9_col6 {\n",
       "            background-color:  #f7a98b;\n",
       "        }    #T_18333402_2827_11ea_b8cc_107b4462da89row9_col7 {\n",
       "            background-color:  #dbdcde;\n",
       "        }    #T_18333402_2827_11ea_b8cc_107b4462da89row9_col8 {\n",
       "            background-color:  #b70d28;\n",
       "        }    #T_18333402_2827_11ea_b8cc_107b4462da89row9_col9 {\n",
       "            background-color:  #b40426;\n",
       "        }    #T_18333402_2827_11ea_b8cc_107b4462da89row9_col10 {\n",
       "            background-color:  #8caffe;\n",
       "        }    #T_18333402_2827_11ea_b8cc_107b4462da89row9_col11 {\n",
       "            background-color:  #455cce;\n",
       "        }    #T_18333402_2827_11ea_b8cc_107b4462da89row9_col12 {\n",
       "            background-color:  #3b4cc0;\n",
       "        }    #T_18333402_2827_11ea_b8cc_107b4462da89row9_col13 {\n",
       "            background-color:  #3b4cc0;\n",
       "        }    #T_18333402_2827_11ea_b8cc_107b4462da89row10_col0 {\n",
       "            background-color:  #9dbdff;\n",
       "        }    #T_18333402_2827_11ea_b8cc_107b4462da89row10_col1 {\n",
       "            background-color:  #7b9ff9;\n",
       "        }    #T_18333402_2827_11ea_b8cc_107b4462da89row10_col2 {\n",
       "            background-color:  #bed2f6;\n",
       "        }    #T_18333402_2827_11ea_b8cc_107b4462da89row10_col3 {\n",
       "            background-color:  #6c8ff1;\n",
       "        }    #T_18333402_2827_11ea_b8cc_107b4462da89row10_col4 {\n",
       "            background-color:  #98b9ff;\n",
       "        }    #T_18333402_2827_11ea_b8cc_107b4462da89row10_col5 {\n",
       "            background-color:  #c1d4f4;\n",
       "        }    #T_18333402_2827_11ea_b8cc_107b4462da89row10_col6 {\n",
       "            background-color:  #bbd1f8;\n",
       "        }    #T_18333402_2827_11ea_b8cc_107b4462da89row10_col7 {\n",
       "            background-color:  #ccd9ed;\n",
       "        }    #T_18333402_2827_11ea_b8cc_107b4462da89row10_col8 {\n",
       "            background-color:  #ead4c8;\n",
       "        }    #T_18333402_2827_11ea_b8cc_107b4462da89row10_col9 {\n",
       "            background-color:  #ead5c9;\n",
       "        }    #T_18333402_2827_11ea_b8cc_107b4462da89row10_col10 {\n",
       "            background-color:  #b40426;\n",
       "        }    #T_18333402_2827_11ea_b8cc_107b4462da89row10_col11 {\n",
       "            background-color:  #799cf8;\n",
       "        }    #T_18333402_2827_11ea_b8cc_107b4462da89row10_col12 {\n",
       "            background-color:  #6f92f3;\n",
       "        }    #T_18333402_2827_11ea_b8cc_107b4462da89row10_col13 {\n",
       "            background-color:  #688aef;\n",
       "        }    #T_18333402_2827_11ea_b8cc_107b4462da89row11_col0 {\n",
       "            background-color:  #e8765c;\n",
       "        }    #T_18333402_2827_11ea_b8cc_107b4462da89row11_col1 {\n",
       "            background-color:  #82a6fb;\n",
       "        }    #T_18333402_2827_11ea_b8cc_107b4462da89row11_col2 {\n",
       "            background-color:  #7597f6;\n",
       "        }    #T_18333402_2827_11ea_b8cc_107b4462da89row11_col3 {\n",
       "            background-color:  #5470de;\n",
       "        }    #T_18333402_2827_11ea_b8cc_107b4462da89row11_col4 {\n",
       "            background-color:  #adc9fd;\n",
       "        }    #T_18333402_2827_11ea_b8cc_107b4462da89row11_col5 {\n",
       "            background-color:  #f7bca1;\n",
       "        }    #T_18333402_2827_11ea_b8cc_107b4462da89row11_col6 {\n",
       "            background-color:  #86a9fc;\n",
       "        }    #T_18333402_2827_11ea_b8cc_107b4462da89row11_col7 {\n",
       "            background-color:  #9fbfff;\n",
       "        }    #T_18333402_2827_11ea_b8cc_107b4462da89row11_col8 {\n",
       "            background-color:  #9ebeff;\n",
       "        }    #T_18333402_2827_11ea_b8cc_107b4462da89row11_col9 {\n",
       "            background-color:  #9dbdff;\n",
       "        }    #T_18333402_2827_11ea_b8cc_107b4462da89row11_col10 {\n",
       "            background-color:  #3d50c3;\n",
       "        }    #T_18333402_2827_11ea_b8cc_107b4462da89row11_col11 {\n",
       "            background-color:  #b40426;\n",
       "        }    #T_18333402_2827_11ea_b8cc_107b4462da89row11_col12 {\n",
       "            background-color:  #6687ed;\n",
       "        }    #T_18333402_2827_11ea_b8cc_107b4462da89row11_col13 {\n",
       "            background-color:  #4c66d6;\n",
       "        }    #T_18333402_2827_11ea_b8cc_107b4462da89row12_col0 {\n",
       "            background-color:  #c9d7f0;\n",
       "        }    #T_18333402_2827_11ea_b8cc_107b4462da89row12_col1 {\n",
       "            background-color:  #b1cbfc;\n",
       "        }    #T_18333402_2827_11ea_b8cc_107b4462da89row12_col2 {\n",
       "            background-color:  #a1c0ff;\n",
       "        }    #T_18333402_2827_11ea_b8cc_107b4462da89row12_col3 {\n",
       "            background-color:  #81a4fb;\n",
       "        }    #T_18333402_2827_11ea_b8cc_107b4462da89row12_col4 {\n",
       "            background-color:  #799cf8;\n",
       "        }    #T_18333402_2827_11ea_b8cc_107b4462da89row12_col5 {\n",
       "            background-color:  #e5d8d1;\n",
       "        }    #T_18333402_2827_11ea_b8cc_107b4462da89row12_col6 {\n",
       "            background-color:  #a2c1ff;\n",
       "        }    #T_18333402_2827_11ea_b8cc_107b4462da89row12_col7 {\n",
       "            background-color:  #abc8fd;\n",
       "        }    #T_18333402_2827_11ea_b8cc_107b4462da89row12_col8 {\n",
       "            background-color:  #b3cdfb;\n",
       "        }    #T_18333402_2827_11ea_b8cc_107b4462da89row12_col9 {\n",
       "            background-color:  #b6cefa;\n",
       "        }    #T_18333402_2827_11ea_b8cc_107b4462da89row12_col10 {\n",
       "            background-color:  #5e7de7;\n",
       "        }    #T_18333402_2827_11ea_b8cc_107b4462da89row12_col11 {\n",
       "            background-color:  #8fb1fe;\n",
       "        }    #T_18333402_2827_11ea_b8cc_107b4462da89row12_col12 {\n",
       "            background-color:  #b40426;\n",
       "        }    #T_18333402_2827_11ea_b8cc_107b4462da89row12_col13 {\n",
       "            background-color:  #cd423b;\n",
       "        }    #T_18333402_2827_11ea_b8cc_107b4462da89row13_col0 {\n",
       "            background-color:  #b6cefa;\n",
       "        }    #T_18333402_2827_11ea_b8cc_107b4462da89row13_col1 {\n",
       "            background-color:  #adc9fd;\n",
       "        }    #T_18333402_2827_11ea_b8cc_107b4462da89row13_col2 {\n",
       "            background-color:  #afcafc;\n",
       "        }    #T_18333402_2827_11ea_b8cc_107b4462da89row13_col3 {\n",
       "            background-color:  #81a4fb;\n",
       "        }    #T_18333402_2827_11ea_b8cc_107b4462da89row13_col4 {\n",
       "            background-color:  #80a3fa;\n",
       "        }    #T_18333402_2827_11ea_b8cc_107b4462da89row13_col5 {\n",
       "            background-color:  #dbdcde;\n",
       "        }    #T_18333402_2827_11ea_b8cc_107b4462da89row13_col6 {\n",
       "            background-color:  #a7c5fe;\n",
       "        }    #T_18333402_2827_11ea_b8cc_107b4462da89row13_col7 {\n",
       "            background-color:  #c4d5f3;\n",
       "        }    #T_18333402_2827_11ea_b8cc_107b4462da89row13_col8 {\n",
       "            background-color:  #bad0f8;\n",
       "        }    #T_18333402_2827_11ea_b8cc_107b4462da89row13_col9 {\n",
       "            background-color:  #bed2f6;\n",
       "        }    #T_18333402_2827_11ea_b8cc_107b4462da89row13_col10 {\n",
       "            background-color:  #6485ec;\n",
       "        }    #T_18333402_2827_11ea_b8cc_107b4462da89row13_col11 {\n",
       "            background-color:  #82a6fb;\n",
       "        }    #T_18333402_2827_11ea_b8cc_107b4462da89row13_col12 {\n",
       "            background-color:  #cd423b;\n",
       "        }    #T_18333402_2827_11ea_b8cc_107b4462da89row13_col13 {\n",
       "            background-color:  #b40426;\n",
       "        }</style>  \n",
       "<table id=\"T_18333402_2827_11ea_b8cc_107b4462da89\" > \n",
       "<thead>    <tr> \n",
       "        <th class=\"blank level0\" ></th> \n",
       "        <th class=\"col_heading level0 col0\" >GDP per capita, PPP (current international $)</th> \n",
       "        <th class=\"col_heading level0 col1\" >Suicide mortality rate (per 100,000 population)</th> \n",
       "        <th class=\"col_heading level0 col2\" >Renewable energy consumption (% of total final energy consumption)</th> \n",
       "        <th class=\"col_heading level0 col3\" >Forest area (% of land area)</th> \n",
       "        <th class=\"col_heading level0 col4\" >Total natural resources rents (% of GDP)</th> \n",
       "        <th class=\"col_heading level0 col5\" >Life expectancy at birth, total (years)</th> \n",
       "        <th class=\"col_heading level0 col6\" >Probability of dying at age 5-14 years (per 1,000 children age 5)</th> \n",
       "        <th class=\"col_heading level0 col7\" >PM2.5 air pollution, mean annual exposure (micrograms per cubic meter)</th> \n",
       "        <th class=\"col_heading level0 col8\" >Fertility rate, total (births per woman)</th> \n",
       "        <th class=\"col_heading level0 col9\" >Birth rate, crude (per 1,000 people)</th> \n",
       "        <th class=\"col_heading level0 col10\" >Refugee population by country or territory of origin</th> \n",
       "        <th class=\"col_heading level0 col11\" >International migrant stock (% of population)</th> \n",
       "        <th class=\"col_heading level0 col12\" >CO2 emissions (kt)</th> \n",
       "        <th class=\"col_heading level0 col13\" >Methane emissions (kt of CO2 equivalent)</th> \n",
       "    </tr></thead> \n",
       "<tbody>    <tr> \n",
       "        <th id=\"T_18333402_2827_11ea_b8cc_107b4462da89level0_row0\" class=\"row_heading level0 row0\" >GDP per capita, PPP (current international $)</th> \n",
       "        <td id=\"T_18333402_2827_11ea_b8cc_107b4462da89row0_col0\" class=\"data row0 col0\" >1</td> \n",
       "        <td id=\"T_18333402_2827_11ea_b8cc_107b4462da89row0_col1\" class=\"data row0 col1\" >0.14</td> \n",
       "        <td id=\"T_18333402_2827_11ea_b8cc_107b4462da89row0_col2\" class=\"data row0 col2\" >-0.5</td> \n",
       "        <td id=\"T_18333402_2827_11ea_b8cc_107b4462da89row0_col3\" class=\"data row0 col3\" >-0.073</td> \n",
       "        <td id=\"T_18333402_2827_11ea_b8cc_107b4462da89row0_col4\" class=\"data row0 col4\" >0.07</td> \n",
       "        <td id=\"T_18333402_2827_11ea_b8cc_107b4462da89row0_col5\" class=\"data row0 col5\" >0.61</td> \n",
       "        <td id=\"T_18333402_2827_11ea_b8cc_107b4462da89row0_col6\" class=\"data row0 col6\" >-0.34</td> \n",
       "        <td id=\"T_18333402_2827_11ea_b8cc_107b4462da89row0_col7\" class=\"data row0 col7\" >-0.12</td> \n",
       "        <td id=\"T_18333402_2827_11ea_b8cc_107b4462da89row0_col8\" class=\"data row0 col8\" >-0.51</td> \n",
       "        <td id=\"T_18333402_2827_11ea_b8cc_107b4462da89row0_col9\" class=\"data row0 col9\" >-0.57</td> \n",
       "        <td id=\"T_18333402_2827_11ea_b8cc_107b4462da89row0_col10\" class=\"data row0 col10\" >-0.11</td> \n",
       "        <td id=\"T_18333402_2827_11ea_b8cc_107b4462da89row0_col11\" class=\"data row0 col11\" >0.73</td> \n",
       "        <td id=\"T_18333402_2827_11ea_b8cc_107b4462da89row0_col12\" class=\"data row0 col12\" >0.1</td> \n",
       "        <td id=\"T_18333402_2827_11ea_b8cc_107b4462da89row0_col13\" class=\"data row0 col13\" >0.0082</td> \n",
       "    </tr>    <tr> \n",
       "        <th id=\"T_18333402_2827_11ea_b8cc_107b4462da89level0_row1\" class=\"row_heading level0 row1\" >Suicide mortality rate (per 100,000 population)</th> \n",
       "        <td id=\"T_18333402_2827_11ea_b8cc_107b4462da89row1_col0\" class=\"data row1 col0\" >0.14</td> \n",
       "        <td id=\"T_18333402_2827_11ea_b8cc_107b4462da89row1_col1\" class=\"data row1 col1\" >1</td> \n",
       "        <td id=\"T_18333402_2827_11ea_b8cc_107b4462da89row1_col2\" class=\"data row1 col2\" >-0.14</td> \n",
       "        <td id=\"T_18333402_2827_11ea_b8cc_107b4462da89row1_col3\" class=\"data row1 col3\" >0.15</td> \n",
       "        <td id=\"T_18333402_2827_11ea_b8cc_107b4462da89row1_col4\" class=\"data row1 col4\" >-0.15</td> \n",
       "        <td id=\"T_18333402_2827_11ea_b8cc_107b4462da89row1_col5\" class=\"data row1 col5\" >0.13</td> \n",
       "        <td id=\"T_18333402_2827_11ea_b8cc_107b4462da89row1_col6\" class=\"data row1 col6\" >-0.11</td> \n",
       "        <td id=\"T_18333402_2827_11ea_b8cc_107b4462da89row1_col7\" class=\"data row1 col7\" >-0.21</td> \n",
       "        <td id=\"T_18333402_2827_11ea_b8cc_107b4462da89row1_col8\" class=\"data row1 col8\" >-0.33</td> \n",
       "        <td id=\"T_18333402_2827_11ea_b8cc_107b4462da89row1_col9\" class=\"data row1 col9\" >-0.36</td> \n",
       "        <td id=\"T_18333402_2827_11ea_b8cc_107b4462da89row1_col10\" class=\"data row1 col10\" >-0.083</td> \n",
       "        <td id=\"T_18333402_2827_11ea_b8cc_107b4462da89row1_col11\" class=\"data row1 col11\" >-0.058</td> \n",
       "        <td id=\"T_18333402_2827_11ea_b8cc_107b4462da89row1_col12\" class=\"data row1 col12\" >0.12</td> \n",
       "        <td id=\"T_18333402_2827_11ea_b8cc_107b4462da89row1_col13\" class=\"data row1 col13\" >0.11</td> \n",
       "    </tr>    <tr> \n",
       "        <th id=\"T_18333402_2827_11ea_b8cc_107b4462da89level0_row2\" class=\"row_heading level0 row2\" >Renewable energy consumption (% of total final energy consumption)</th> \n",
       "        <td id=\"T_18333402_2827_11ea_b8cc_107b4462da89row2_col0\" class=\"data row2 col0\" >-0.5</td> \n",
       "        <td id=\"T_18333402_2827_11ea_b8cc_107b4462da89row2_col1\" class=\"data row2 col1\" >-0.14</td> \n",
       "        <td id=\"T_18333402_2827_11ea_b8cc_107b4462da89row2_col2\" class=\"data row2 col2\" >1</td> \n",
       "        <td id=\"T_18333402_2827_11ea_b8cc_107b4462da89row2_col3\" class=\"data row2 col3\" >0.2</td> \n",
       "        <td id=\"T_18333402_2827_11ea_b8cc_107b4462da89row2_col4\" class=\"data row2 col4\" >0.038</td> \n",
       "        <td id=\"T_18333402_2827_11ea_b8cc_107b4462da89row2_col5\" class=\"data row2 col5\" >-0.67</td> \n",
       "        <td id=\"T_18333402_2827_11ea_b8cc_107b4462da89row2_col6\" class=\"data row2 col6\" >0.52</td> \n",
       "        <td id=\"T_18333402_2827_11ea_b8cc_107b4462da89row2_col7\" class=\"data row2 col7\" >0.15</td> \n",
       "        <td id=\"T_18333402_2827_11ea_b8cc_107b4462da89row2_col8\" class=\"data row2 col8\" >0.67</td> \n",
       "        <td id=\"T_18333402_2827_11ea_b8cc_107b4462da89row2_col9\" class=\"data row2 col9\" >0.67</td> \n",
       "        <td id=\"T_18333402_2827_11ea_b8cc_107b4462da89row2_col10\" class=\"data row2 col10\" >-0.013</td> \n",
       "        <td id=\"T_18333402_2827_11ea_b8cc_107b4462da89row2_col11\" class=\"data row2 col11\" >-0.36</td> \n",
       "        <td id=\"T_18333402_2827_11ea_b8cc_107b4462da89row2_col12\" class=\"data row2 col12\" >-0.15</td> \n",
       "        <td id=\"T_18333402_2827_11ea_b8cc_107b4462da89row2_col13\" class=\"data row2 col13\" >-0.082</td> \n",
       "    </tr>    <tr> \n",
       "        <th id=\"T_18333402_2827_11ea_b8cc_107b4462da89level0_row3\" class=\"row_heading level0 row3\" >Forest area (% of land area)</th> \n",
       "        <td id=\"T_18333402_2827_11ea_b8cc_107b4462da89row3_col0\" class=\"data row3 col0\" >-0.073</td> \n",
       "        <td id=\"T_18333402_2827_11ea_b8cc_107b4462da89row3_col1\" class=\"data row3 col1\" >0.15</td> \n",
       "        <td id=\"T_18333402_2827_11ea_b8cc_107b4462da89row3_col2\" class=\"data row3 col2\" >0.2</td> \n",
       "        <td id=\"T_18333402_2827_11ea_b8cc_107b4462da89row3_col3\" class=\"data row3 col3\" >1</td> \n",
       "        <td id=\"T_18333402_2827_11ea_b8cc_107b4462da89row3_col4\" class=\"data row3 col4\" >-0.035</td> \n",
       "        <td id=\"T_18333402_2827_11ea_b8cc_107b4462da89row3_col5\" class=\"data row3 col5\" >0.0019</td> \n",
       "        <td id=\"T_18333402_2827_11ea_b8cc_107b4462da89row3_col6\" class=\"data row3 col6\" >-0.074</td> \n",
       "        <td id=\"T_18333402_2827_11ea_b8cc_107b4462da89row3_col7\" class=\"data row3 col7\" >-0.31</td> \n",
       "        <td id=\"T_18333402_2827_11ea_b8cc_107b4462da89row3_col8\" class=\"data row3 col8\" >-0.046</td> \n",
       "        <td id=\"T_18333402_2827_11ea_b8cc_107b4462da89row3_col9\" class=\"data row3 col9\" >-0.054</td> \n",
       "        <td id=\"T_18333402_2827_11ea_b8cc_107b4462da89row3_col10\" class=\"data row3 col10\" >-0.11</td> \n",
       "        <td id=\"T_18333402_2827_11ea_b8cc_107b4462da89row3_col11\" class=\"data row3 col11\" >-0.2</td> \n",
       "        <td id=\"T_18333402_2827_11ea_b8cc_107b4462da89row3_col12\" class=\"data row3 col12\" >-0.026</td> \n",
       "        <td id=\"T_18333402_2827_11ea_b8cc_107b4462da89row3_col13\" class=\"data row3 col13\" >-0.027</td> \n",
       "    </tr>    <tr> \n",
       "        <th id=\"T_18333402_2827_11ea_b8cc_107b4462da89level0_row4\" class=\"row_heading level0 row4\" >Total natural resources rents (% of GDP)</th> \n",
       "        <td id=\"T_18333402_2827_11ea_b8cc_107b4462da89row4_col0\" class=\"data row4 col0\" >0.07</td> \n",
       "        <td id=\"T_18333402_2827_11ea_b8cc_107b4462da89row4_col1\" class=\"data row4 col1\" >-0.15</td> \n",
       "        <td id=\"T_18333402_2827_11ea_b8cc_107b4462da89row4_col2\" class=\"data row4 col2\" >0.038</td> \n",
       "        <td id=\"T_18333402_2827_11ea_b8cc_107b4462da89row4_col3\" class=\"data row4 col3\" >-0.035</td> \n",
       "        <td id=\"T_18333402_2827_11ea_b8cc_107b4462da89row4_col4\" class=\"data row4 col4\" >1</td> \n",
       "        <td id=\"T_18333402_2827_11ea_b8cc_107b4462da89row4_col5\" class=\"data row4 col5\" >-0.3</td> \n",
       "        <td id=\"T_18333402_2827_11ea_b8cc_107b4462da89row4_col6\" class=\"data row4 col6\" >0.12</td> \n",
       "        <td id=\"T_18333402_2827_11ea_b8cc_107b4462da89row4_col7\" class=\"data row4 col7\" >0.34</td> \n",
       "        <td id=\"T_18333402_2827_11ea_b8cc_107b4462da89row4_col8\" class=\"data row4 col8\" >0.36</td> \n",
       "        <td id=\"T_18333402_2827_11ea_b8cc_107b4462da89row4_col9\" class=\"data row4 col9\" >0.38</td> \n",
       "        <td id=\"T_18333402_2827_11ea_b8cc_107b4462da89row4_col10\" class=\"data row4 col10\" >0.069</td> \n",
       "        <td id=\"T_18333402_2827_11ea_b8cc_107b4462da89row4_col11\" class=\"data row4 col11\" >0.14</td> \n",
       "        <td id=\"T_18333402_2827_11ea_b8cc_107b4462da89row4_col12\" class=\"data row4 col12\" >-0.048</td> \n",
       "        <td id=\"T_18333402_2827_11ea_b8cc_107b4462da89row4_col13\" class=\"data row4 col13\" >-0.024</td> \n",
       "    </tr>    <tr> \n",
       "        <th id=\"T_18333402_2827_11ea_b8cc_107b4462da89level0_row5\" class=\"row_heading level0 row5\" >Life expectancy at birth, total (years)</th> \n",
       "        <td id=\"T_18333402_2827_11ea_b8cc_107b4462da89row5_col0\" class=\"data row5 col0\" >0.61</td> \n",
       "        <td id=\"T_18333402_2827_11ea_b8cc_107b4462da89row5_col1\" class=\"data row5 col1\" >0.13</td> \n",
       "        <td id=\"T_18333402_2827_11ea_b8cc_107b4462da89row5_col2\" class=\"data row5 col2\" >-0.67</td> \n",
       "        <td id=\"T_18333402_2827_11ea_b8cc_107b4462da89row5_col3\" class=\"data row5 col3\" >0.0019</td> \n",
       "        <td id=\"T_18333402_2827_11ea_b8cc_107b4462da89row5_col4\" class=\"data row5 col4\" >-0.3</td> \n",
       "        <td id=\"T_18333402_2827_11ea_b8cc_107b4462da89row5_col5\" class=\"data row5 col5\" >1</td> \n",
       "        <td id=\"T_18333402_2827_11ea_b8cc_107b4462da89row5_col6\" class=\"data row5 col6\" >-0.57</td> \n",
       "        <td id=\"T_18333402_2827_11ea_b8cc_107b4462da89row5_col7\" class=\"data row5 col7\" >-0.31</td> \n",
       "        <td id=\"T_18333402_2827_11ea_b8cc_107b4462da89row5_col8\" class=\"data row5 col8\" >-0.82</td> \n",
       "        <td id=\"T_18333402_2827_11ea_b8cc_107b4462da89row5_col9\" class=\"data row5 col9\" >-0.86</td> \n",
       "        <td id=\"T_18333402_2827_11ea_b8cc_107b4462da89row5_col10\" class=\"data row5 col10\" >-0.11</td> \n",
       "        <td id=\"T_18333402_2827_11ea_b8cc_107b4462da89row5_col11\" class=\"data row5 col11\" >0.36</td> \n",
       "        <td id=\"T_18333402_2827_11ea_b8cc_107b4462da89row5_col12\" class=\"data row5 col12\" >0.13</td> \n",
       "        <td id=\"T_18333402_2827_11ea_b8cc_107b4462da89row5_col13\" class=\"data row5 col13\" >0.061</td> \n",
       "    </tr>    <tr> \n",
       "        <th id=\"T_18333402_2827_11ea_b8cc_107b4462da89level0_row6\" class=\"row_heading level0 row6\" >Probability of dying at age 5-14 years (per 1,000 children age 5)</th> \n",
       "        <td id=\"T_18333402_2827_11ea_b8cc_107b4462da89row6_col0\" class=\"data row6 col0\" >-0.34</td> \n",
       "        <td id=\"T_18333402_2827_11ea_b8cc_107b4462da89row6_col1\" class=\"data row6 col1\" >-0.11</td> \n",
       "        <td id=\"T_18333402_2827_11ea_b8cc_107b4462da89row6_col2\" class=\"data row6 col2\" >0.52</td> \n",
       "        <td id=\"T_18333402_2827_11ea_b8cc_107b4462da89row6_col3\" class=\"data row6 col3\" >-0.074</td> \n",
       "        <td id=\"T_18333402_2827_11ea_b8cc_107b4462da89row6_col4\" class=\"data row6 col4\" >0.12</td> \n",
       "        <td id=\"T_18333402_2827_11ea_b8cc_107b4462da89row6_col5\" class=\"data row6 col5\" >-0.57</td> \n",
       "        <td id=\"T_18333402_2827_11ea_b8cc_107b4462da89row6_col6\" class=\"data row6 col6\" >1</td> \n",
       "        <td id=\"T_18333402_2827_11ea_b8cc_107b4462da89row6_col7\" class=\"data row6 col7\" >0.15</td> \n",
       "        <td id=\"T_18333402_2827_11ea_b8cc_107b4462da89row6_col8\" class=\"data row6 col8\" >0.55</td> \n",
       "        <td id=\"T_18333402_2827_11ea_b8cc_107b4462da89row6_col9\" class=\"data row6 col9\" >0.54</td> \n",
       "        <td id=\"T_18333402_2827_11ea_b8cc_107b4462da89row6_col10\" class=\"data row6 col10\" >0.034</td> \n",
       "        <td id=\"T_18333402_2827_11ea_b8cc_107b4462da89row6_col11\" class=\"data row6 col11\" >-0.21</td> \n",
       "        <td id=\"T_18333402_2827_11ea_b8cc_107b4462da89row6_col12\" class=\"data row6 col12\" >-0.084</td> \n",
       "        <td id=\"T_18333402_2827_11ea_b8cc_107b4462da89row6_col13\" class=\"data row6 col13\" >-0.058</td> \n",
       "    </tr>    <tr> \n",
       "        <th id=\"T_18333402_2827_11ea_b8cc_107b4462da89level0_row7\" class=\"row_heading level0 row7\" >PM2.5 air pollution, mean annual exposure (micrograms per cubic meter)</th> \n",
       "        <td id=\"T_18333402_2827_11ea_b8cc_107b4462da89row7_col0\" class=\"data row7 col0\" >-0.12</td> \n",
       "        <td id=\"T_18333402_2827_11ea_b8cc_107b4462da89row7_col1\" class=\"data row7 col1\" >-0.21</td> \n",
       "        <td id=\"T_18333402_2827_11ea_b8cc_107b4462da89row7_col2\" class=\"data row7 col2\" >0.15</td> \n",
       "        <td id=\"T_18333402_2827_11ea_b8cc_107b4462da89row7_col3\" class=\"data row7 col3\" >-0.31</td> \n",
       "        <td id=\"T_18333402_2827_11ea_b8cc_107b4462da89row7_col4\" class=\"data row7 col4\" >0.34</td> \n",
       "        <td id=\"T_18333402_2827_11ea_b8cc_107b4462da89row7_col5\" class=\"data row7 col5\" >-0.31</td> \n",
       "        <td id=\"T_18333402_2827_11ea_b8cc_107b4462da89row7_col6\" class=\"data row7 col6\" >0.15</td> \n",
       "        <td id=\"T_18333402_2827_11ea_b8cc_107b4462da89row7_col7\" class=\"data row7 col7\" >1</td> \n",
       "        <td id=\"T_18333402_2827_11ea_b8cc_107b4462da89row7_col8\" class=\"data row7 col8\" >0.31</td> \n",
       "        <td id=\"T_18333402_2827_11ea_b8cc_107b4462da89row7_col9\" class=\"data row7 col9\" >0.34</td> \n",
       "        <td id=\"T_18333402_2827_11ea_b8cc_107b4462da89row7_col10\" class=\"data row7 col10\" >0.27</td> \n",
       "        <td id=\"T_18333402_2827_11ea_b8cc_107b4462da89row7_col11\" class=\"data row7 col11\" >0.087</td> \n",
       "        <td id=\"T_18333402_2827_11ea_b8cc_107b4462da89row7_col12\" class=\"data row7 col12\" >0.13</td> \n",
       "        <td id=\"T_18333402_2827_11ea_b8cc_107b4462da89row7_col13\" class=\"data row7 col13\" >0.23</td> \n",
       "    </tr>    <tr> \n",
       "        <th id=\"T_18333402_2827_11ea_b8cc_107b4462da89level0_row8\" class=\"row_heading level0 row8\" >Fertility rate, total (births per woman)</th> \n",
       "        <td id=\"T_18333402_2827_11ea_b8cc_107b4462da89row8_col0\" class=\"data row8 col0\" >-0.51</td> \n",
       "        <td id=\"T_18333402_2827_11ea_b8cc_107b4462da89row8_col1\" class=\"data row8 col1\" >-0.33</td> \n",
       "        <td id=\"T_18333402_2827_11ea_b8cc_107b4462da89row8_col2\" class=\"data row8 col2\" >0.67</td> \n",
       "        <td id=\"T_18333402_2827_11ea_b8cc_107b4462da89row8_col3\" class=\"data row8 col3\" >-0.046</td> \n",
       "        <td id=\"T_18333402_2827_11ea_b8cc_107b4462da89row8_col4\" class=\"data row8 col4\" >0.36</td> \n",
       "        <td id=\"T_18333402_2827_11ea_b8cc_107b4462da89row8_col5\" class=\"data row8 col5\" >-0.82</td> \n",
       "        <td id=\"T_18333402_2827_11ea_b8cc_107b4462da89row8_col6\" class=\"data row8 col6\" >0.55</td> \n",
       "        <td id=\"T_18333402_2827_11ea_b8cc_107b4462da89row8_col7\" class=\"data row8 col7\" >0.31</td> \n",
       "        <td id=\"T_18333402_2827_11ea_b8cc_107b4462da89row8_col8\" class=\"data row8 col8\" >1</td> \n",
       "        <td id=\"T_18333402_2827_11ea_b8cc_107b4462da89row8_col9\" class=\"data row8 col9\" >0.98</td> \n",
       "        <td id=\"T_18333402_2827_11ea_b8cc_107b4462da89row8_col10\" class=\"data row8 col10\" >0.2</td> \n",
       "        <td id=\"T_18333402_2827_11ea_b8cc_107b4462da89row8_col11\" class=\"data row8 col11\" >-0.27</td> \n",
       "        <td id=\"T_18333402_2827_11ea_b8cc_107b4462da89row8_col12\" class=\"data row8 col12\" >-0.16</td> \n",
       "        <td id=\"T_18333402_2827_11ea_b8cc_107b4462da89row8_col13\" class=\"data row8 col13\" >-0.12</td> \n",
       "    </tr>    <tr> \n",
       "        <th id=\"T_18333402_2827_11ea_b8cc_107b4462da89level0_row9\" class=\"row_heading level0 row9\" >Birth rate, crude (per 1,000 people)</th> \n",
       "        <td id=\"T_18333402_2827_11ea_b8cc_107b4462da89row9_col0\" class=\"data row9 col0\" >-0.57</td> \n",
       "        <td id=\"T_18333402_2827_11ea_b8cc_107b4462da89row9_col1\" class=\"data row9 col1\" >-0.36</td> \n",
       "        <td id=\"T_18333402_2827_11ea_b8cc_107b4462da89row9_col2\" class=\"data row9 col2\" >0.67</td> \n",
       "        <td id=\"T_18333402_2827_11ea_b8cc_107b4462da89row9_col3\" class=\"data row9 col3\" >-0.054</td> \n",
       "        <td id=\"T_18333402_2827_11ea_b8cc_107b4462da89row9_col4\" class=\"data row9 col4\" >0.38</td> \n",
       "        <td id=\"T_18333402_2827_11ea_b8cc_107b4462da89row9_col5\" class=\"data row9 col5\" >-0.86</td> \n",
       "        <td id=\"T_18333402_2827_11ea_b8cc_107b4462da89row9_col6\" class=\"data row9 col6\" >0.54</td> \n",
       "        <td id=\"T_18333402_2827_11ea_b8cc_107b4462da89row9_col7\" class=\"data row9 col7\" >0.34</td> \n",
       "        <td id=\"T_18333402_2827_11ea_b8cc_107b4462da89row9_col8\" class=\"data row9 col8\" >0.98</td> \n",
       "        <td id=\"T_18333402_2827_11ea_b8cc_107b4462da89row9_col9\" class=\"data row9 col9\" >1</td> \n",
       "        <td id=\"T_18333402_2827_11ea_b8cc_107b4462da89row9_col10\" class=\"data row9 col10\" >0.17</td> \n",
       "        <td id=\"T_18333402_2827_11ea_b8cc_107b4462da89row9_col11\" class=\"data row9 col11\" >-0.31</td> \n",
       "        <td id=\"T_18333402_2827_11ea_b8cc_107b4462da89row9_col12\" class=\"data row9 col12\" >-0.17</td> \n",
       "        <td id=\"T_18333402_2827_11ea_b8cc_107b4462da89row9_col13\" class=\"data row9 col13\" >-0.13</td> \n",
       "    </tr>    <tr> \n",
       "        <th id=\"T_18333402_2827_11ea_b8cc_107b4462da89level0_row10\" class=\"row_heading level0 row10\" >Refugee population by country or territory of origin</th> \n",
       "        <td id=\"T_18333402_2827_11ea_b8cc_107b4462da89row10_col0\" class=\"data row10 col0\" >-0.11</td> \n",
       "        <td id=\"T_18333402_2827_11ea_b8cc_107b4462da89row10_col1\" class=\"data row10 col1\" >-0.083</td> \n",
       "        <td id=\"T_18333402_2827_11ea_b8cc_107b4462da89row10_col2\" class=\"data row10 col2\" >-0.013</td> \n",
       "        <td id=\"T_18333402_2827_11ea_b8cc_107b4462da89row10_col3\" class=\"data row10 col3\" >-0.11</td> \n",
       "        <td id=\"T_18333402_2827_11ea_b8cc_107b4462da89row10_col4\" class=\"data row10 col4\" >0.069</td> \n",
       "        <td id=\"T_18333402_2827_11ea_b8cc_107b4462da89row10_col5\" class=\"data row10 col5\" >-0.11</td> \n",
       "        <td id=\"T_18333402_2827_11ea_b8cc_107b4462da89row10_col6\" class=\"data row10 col6\" >0.034</td> \n",
       "        <td id=\"T_18333402_2827_11ea_b8cc_107b4462da89row10_col7\" class=\"data row10 col7\" >0.27</td> \n",
       "        <td id=\"T_18333402_2827_11ea_b8cc_107b4462da89row10_col8\" class=\"data row10 col8\" >0.2</td> \n",
       "        <td id=\"T_18333402_2827_11ea_b8cc_107b4462da89row10_col9\" class=\"data row10 col9\" >0.17</td> \n",
       "        <td id=\"T_18333402_2827_11ea_b8cc_107b4462da89row10_col10\" class=\"data row10 col10\" >1</td> \n",
       "        <td id=\"T_18333402_2827_11ea_b8cc_107b4462da89row10_col11\" class=\"data row10 col11\" >-0.1</td> \n",
       "        <td id=\"T_18333402_2827_11ea_b8cc_107b4462da89row10_col12\" class=\"data row10 col12\" >0.018</td> \n",
       "        <td id=\"T_18333402_2827_11ea_b8cc_107b4462da89row10_col13\" class=\"data row10 col13\" >0.038</td> \n",
       "    </tr>    <tr> \n",
       "        <th id=\"T_18333402_2827_11ea_b8cc_107b4462da89level0_row11\" class=\"row_heading level0 row11\" >International migrant stock (% of population)</th> \n",
       "        <td id=\"T_18333402_2827_11ea_b8cc_107b4462da89row11_col0\" class=\"data row11 col0\" >0.73</td> \n",
       "        <td id=\"T_18333402_2827_11ea_b8cc_107b4462da89row11_col1\" class=\"data row11 col1\" >-0.058</td> \n",
       "        <td id=\"T_18333402_2827_11ea_b8cc_107b4462da89row11_col2\" class=\"data row11 col2\" >-0.36</td> \n",
       "        <td id=\"T_18333402_2827_11ea_b8cc_107b4462da89row11_col3\" class=\"data row11 col3\" >-0.2</td> \n",
       "        <td id=\"T_18333402_2827_11ea_b8cc_107b4462da89row11_col4\" class=\"data row11 col4\" >0.14</td> \n",
       "        <td id=\"T_18333402_2827_11ea_b8cc_107b4462da89row11_col5\" class=\"data row11 col5\" >0.36</td> \n",
       "        <td id=\"T_18333402_2827_11ea_b8cc_107b4462da89row11_col6\" class=\"data row11 col6\" >-0.21</td> \n",
       "        <td id=\"T_18333402_2827_11ea_b8cc_107b4462da89row11_col7\" class=\"data row11 col7\" >0.087</td> \n",
       "        <td id=\"T_18333402_2827_11ea_b8cc_107b4462da89row11_col8\" class=\"data row11 col8\" >-0.27</td> \n",
       "        <td id=\"T_18333402_2827_11ea_b8cc_107b4462da89row11_col9\" class=\"data row11 col9\" >-0.31</td> \n",
       "        <td id=\"T_18333402_2827_11ea_b8cc_107b4462da89row11_col10\" class=\"data row11 col10\" >-0.1</td> \n",
       "        <td id=\"T_18333402_2827_11ea_b8cc_107b4462da89row11_col11\" class=\"data row11 col11\" >1</td> \n",
       "        <td id=\"T_18333402_2827_11ea_b8cc_107b4462da89row11_col12\" class=\"data row11 col12\" >-0.011</td> \n",
       "        <td id=\"T_18333402_2827_11ea_b8cc_107b4462da89row11_col13\" class=\"data row11 col13\" >-0.062</td> \n",
       "    </tr>    <tr> \n",
       "        <th id=\"T_18333402_2827_11ea_b8cc_107b4462da89level0_row12\" class=\"row_heading level0 row12\" >CO2 emissions (kt)</th> \n",
       "        <td id=\"T_18333402_2827_11ea_b8cc_107b4462da89row12_col0\" class=\"data row12 col0\" >0.1</td> \n",
       "        <td id=\"T_18333402_2827_11ea_b8cc_107b4462da89row12_col1\" class=\"data row12 col1\" >0.12</td> \n",
       "        <td id=\"T_18333402_2827_11ea_b8cc_107b4462da89row12_col2\" class=\"data row12 col2\" >-0.15</td> \n",
       "        <td id=\"T_18333402_2827_11ea_b8cc_107b4462da89row12_col3\" class=\"data row12 col3\" >-0.026</td> \n",
       "        <td id=\"T_18333402_2827_11ea_b8cc_107b4462da89row12_col4\" class=\"data row12 col4\" >-0.048</td> \n",
       "        <td id=\"T_18333402_2827_11ea_b8cc_107b4462da89row12_col5\" class=\"data row12 col5\" >0.13</td> \n",
       "        <td id=\"T_18333402_2827_11ea_b8cc_107b4462da89row12_col6\" class=\"data row12 col6\" >-0.084</td> \n",
       "        <td id=\"T_18333402_2827_11ea_b8cc_107b4462da89row12_col7\" class=\"data row12 col7\" >0.13</td> \n",
       "        <td id=\"T_18333402_2827_11ea_b8cc_107b4462da89row12_col8\" class=\"data row12 col8\" >-0.16</td> \n",
       "        <td id=\"T_18333402_2827_11ea_b8cc_107b4462da89row12_col9\" class=\"data row12 col9\" >-0.17</td> \n",
       "        <td id=\"T_18333402_2827_11ea_b8cc_107b4462da89row12_col10\" class=\"data row12 col10\" >0.018</td> \n",
       "        <td id=\"T_18333402_2827_11ea_b8cc_107b4462da89row12_col11\" class=\"data row12 col11\" >-0.011</td> \n",
       "        <td id=\"T_18333402_2827_11ea_b8cc_107b4462da89row12_col12\" class=\"data row12 col12\" >1</td> \n",
       "        <td id=\"T_18333402_2827_11ea_b8cc_107b4462da89row12_col13\" class=\"data row12 col13\" >0.92</td> \n",
       "    </tr>    <tr> \n",
       "        <th id=\"T_18333402_2827_11ea_b8cc_107b4462da89level0_row13\" class=\"row_heading level0 row13\" >Methane emissions (kt of CO2 equivalent)</th> \n",
       "        <td id=\"T_18333402_2827_11ea_b8cc_107b4462da89row13_col0\" class=\"data row13 col0\" >0.0082</td> \n",
       "        <td id=\"T_18333402_2827_11ea_b8cc_107b4462da89row13_col1\" class=\"data row13 col1\" >0.11</td> \n",
       "        <td id=\"T_18333402_2827_11ea_b8cc_107b4462da89row13_col2\" class=\"data row13 col2\" >-0.082</td> \n",
       "        <td id=\"T_18333402_2827_11ea_b8cc_107b4462da89row13_col3\" class=\"data row13 col3\" >-0.027</td> \n",
       "        <td id=\"T_18333402_2827_11ea_b8cc_107b4462da89row13_col4\" class=\"data row13 col4\" >-0.024</td> \n",
       "        <td id=\"T_18333402_2827_11ea_b8cc_107b4462da89row13_col5\" class=\"data row13 col5\" >0.061</td> \n",
       "        <td id=\"T_18333402_2827_11ea_b8cc_107b4462da89row13_col6\" class=\"data row13 col6\" >-0.058</td> \n",
       "        <td id=\"T_18333402_2827_11ea_b8cc_107b4462da89row13_col7\" class=\"data row13 col7\" >0.23</td> \n",
       "        <td id=\"T_18333402_2827_11ea_b8cc_107b4462da89row13_col8\" class=\"data row13 col8\" >-0.12</td> \n",
       "        <td id=\"T_18333402_2827_11ea_b8cc_107b4462da89row13_col9\" class=\"data row13 col9\" >-0.13</td> \n",
       "        <td id=\"T_18333402_2827_11ea_b8cc_107b4462da89row13_col10\" class=\"data row13 col10\" >0.038</td> \n",
       "        <td id=\"T_18333402_2827_11ea_b8cc_107b4462da89row13_col11\" class=\"data row13 col11\" >-0.062</td> \n",
       "        <td id=\"T_18333402_2827_11ea_b8cc_107b4462da89row13_col12\" class=\"data row13 col12\" >0.92</td> \n",
       "        <td id=\"T_18333402_2827_11ea_b8cc_107b4462da89row13_col13\" class=\"data row13 col13\" >1</td> \n",
       "    </tr></tbody> \n",
       "</table> "
      ],
      "text/plain": [
       "<pandas.io.formats.style.Styler at 0x20f7cbf5dd8>"
      ]
     },
     "execution_count": 7,
     "metadata": {},
     "output_type": "execute_result"
    }
   ],
   "source": [
    "corr=dataF.corr()\n",
    "corr.style.background_gradient(cmap='coolwarm').set_precision(2)"
   ]
  },
  {
   "cell_type": "markdown",
   "metadata": {},
   "source": [
    "# Problematique ?\n",
    "Est-ce que les pays qui attirent le plus de migrants sont ceux qui ont des conditions environnementales favorables (faible PM2.5 et grandes zones forestières) ou ceux où la participation dans le travail et plus forte? Est-ce que le niveau de vie joue - t-il un rôle important au moment de choisir un pays où immigrer (population growth, suicide mortality rate)"
   ]
  },
  {
   "cell_type": "code",
   "execution_count": 8,
   "metadata": {},
   "outputs": [],
   "source": [
    "mycolumns=['GDP per capita, PPP (current international $)',\n",
    "           'Forest area (% of land area)','Renewable energy consumption (% of total final energy consumption)',\n",
    "           'PM2.5 air pollution, mean annual exposure (micrograms per cubic meter)',\n",
    "           'CO2 emissions (kt)','Total natural resources rents (% of GDP)','Life expectancy at birth, total (years)']"
   ]
  },
  {
   "cell_type": "code",
   "execution_count": 9,
   "metadata": {},
   "outputs": [],
   "source": [
    "dataF2=dataF[mycolumns]"
   ]
  },
  {
   "cell_type": "code",
   "execution_count": 10,
   "metadata": {},
   "outputs": [
    {
     "data": {
      "text/html": [
       "<style  type=\"text/css\" >\n",
       "    #T_21704edc_2827_11ea_81d6_107b4462da89row0_col0 {\n",
       "            background-color:  #b40426;\n",
       "        }    #T_21704edc_2827_11ea_81d6_107b4462da89row0_col1 {\n",
       "            background-color:  #7597f6;\n",
       "        }    #T_21704edc_2827_11ea_81d6_107b4462da89row0_col2 {\n",
       "            background-color:  #5875e1;\n",
       "        }    #T_21704edc_2827_11ea_81d6_107b4462da89row0_col3 {\n",
       "            background-color:  #6788ee;\n",
       "        }    #T_21704edc_2827_11ea_81d6_107b4462da89row0_col4 {\n",
       "            background-color:  #82a6fb;\n",
       "        }    #T_21704edc_2827_11ea_81d6_107b4462da89row0_col5 {\n",
       "            background-color:  #98b9ff;\n",
       "        }    #T_21704edc_2827_11ea_81d6_107b4462da89row0_col6 {\n",
       "            background-color:  #f39475;\n",
       "        }    #T_21704edc_2827_11ea_81d6_107b4462da89row1_col0 {\n",
       "            background-color:  #9abbff;\n",
       "        }    #T_21704edc_2827_11ea_81d6_107b4462da89row1_col1 {\n",
       "            background-color:  #b40426;\n",
       "        }    #T_21704edc_2827_11ea_81d6_107b4462da89row1_col2 {\n",
       "            background-color:  #e1dad6;\n",
       "        }    #T_21704edc_2827_11ea_81d6_107b4462da89row1_col3 {\n",
       "            background-color:  #3b4cc0;\n",
       "        }    #T_21704edc_2827_11ea_81d6_107b4462da89row1_col4 {\n",
       "            background-color:  #5d7ce6;\n",
       "        }    #T_21704edc_2827_11ea_81d6_107b4462da89row1_col5 {\n",
       "            background-color:  #7da0f9;\n",
       "        }    #T_21704edc_2827_11ea_81d6_107b4462da89row1_col6 {\n",
       "            background-color:  #c0d4f5;\n",
       "        }    #T_21704edc_2827_11ea_81d6_107b4462da89row2_col0 {\n",
       "            background-color:  #3b4cc0;\n",
       "        }    #T_21704edc_2827_11ea_81d6_107b4462da89row2_col1 {\n",
       "            background-color:  #bbd1f8;\n",
       "        }    #T_21704edc_2827_11ea_81d6_107b4462da89row2_col2 {\n",
       "            background-color:  #b40426;\n",
       "        }    #T_21704edc_2827_11ea_81d6_107b4462da89row2_col3 {\n",
       "            background-color:  #afcafc;\n",
       "        }    #T_21704edc_2827_11ea_81d6_107b4462da89row2_col4 {\n",
       "            background-color:  #3b4cc0;\n",
       "        }    #T_21704edc_2827_11ea_81d6_107b4462da89row2_col5 {\n",
       "            background-color:  #90b2fe;\n",
       "        }    #T_21704edc_2827_11ea_81d6_107b4462da89row2_col6 {\n",
       "            background-color:  #3b4cc0;\n",
       "        }    #T_21704edc_2827_11ea_81d6_107b4462da89row3_col0 {\n",
       "            background-color:  #8db0fe;\n",
       "        }    #T_21704edc_2827_11ea_81d6_107b4462da89row3_col1 {\n",
       "            background-color:  #3b4cc0;\n",
       "        }    #T_21704edc_2827_11ea_81d6_107b4462da89row3_col2 {\n",
       "            background-color:  #d9dce1;\n",
       "        }    #T_21704edc_2827_11ea_81d6_107b4462da89row3_col3 {\n",
       "            background-color:  #b40426;\n",
       "        }    #T_21704edc_2827_11ea_81d6_107b4462da89row3_col4 {\n",
       "            background-color:  #8badfd;\n",
       "        }    #T_21704edc_2827_11ea_81d6_107b4462da89row3_col5 {\n",
       "            background-color:  #dbdcde;\n",
       "        }    #T_21704edc_2827_11ea_81d6_107b4462da89row3_col6 {\n",
       "            background-color:  #80a3fa;\n",
       "        }    #T_21704edc_2827_11ea_81d6_107b4462da89row4_col0 {\n",
       "            background-color:  #c0d4f5;\n",
       "        }    #T_21704edc_2827_11ea_81d6_107b4462da89row4_col1 {\n",
       "            background-color:  #81a4fb;\n",
       "        }    #T_21704edc_2827_11ea_81d6_107b4462da89row4_col2 {\n",
       "            background-color:  #a1c0ff;\n",
       "        }    #T_21704edc_2827_11ea_81d6_107b4462da89row4_col3 {\n",
       "            background-color:  #abc8fd;\n",
       "        }    #T_21704edc_2827_11ea_81d6_107b4462da89row4_col4 {\n",
       "            background-color:  #b40426;\n",
       "        }    #T_21704edc_2827_11ea_81d6_107b4462da89row4_col5 {\n",
       "            background-color:  #799cf8;\n",
       "        }    #T_21704edc_2827_11ea_81d6_107b4462da89row4_col6 {\n",
       "            background-color:  #d7dce3;\n",
       "        }    #T_21704edc_2827_11ea_81d6_107b4462da89row5_col0 {\n",
       "            background-color:  #bad0f8;\n",
       "        }    #T_21704edc_2827_11ea_81d6_107b4462da89row5_col1 {\n",
       "            background-color:  #7ea1fa;\n",
       "        }    #T_21704edc_2827_11ea_81d6_107b4462da89row5_col2 {\n",
       "            background-color:  #c7d7f0;\n",
       "        }    #T_21704edc_2827_11ea_81d6_107b4462da89row5_col3 {\n",
       "            background-color:  #dcdddd;\n",
       "        }    #T_21704edc_2827_11ea_81d6_107b4462da89row5_col4 {\n",
       "            background-color:  #5673e0;\n",
       "        }    #T_21704edc_2827_11ea_81d6_107b4462da89row5_col5 {\n",
       "            background-color:  #b40426;\n",
       "        }    #T_21704edc_2827_11ea_81d6_107b4462da89row5_col6 {\n",
       "            background-color:  #82a6fb;\n",
       "        }    #T_21704edc_2827_11ea_81d6_107b4462da89row6_col0 {\n",
       "            background-color:  #f59d7e;\n",
       "        }    #T_21704edc_2827_11ea_81d6_107b4462da89row6_col1 {\n",
       "            background-color:  #89acfd;\n",
       "        }    #T_21704edc_2827_11ea_81d6_107b4462da89row6_col2 {\n",
       "            background-color:  #3b4cc0;\n",
       "        }    #T_21704edc_2827_11ea_81d6_107b4462da89row6_col3 {\n",
       "            background-color:  #3b4cc0;\n",
       "        }    #T_21704edc_2827_11ea_81d6_107b4462da89row6_col4 {\n",
       "            background-color:  #8badfd;\n",
       "        }    #T_21704edc_2827_11ea_81d6_107b4462da89row6_col5 {\n",
       "            background-color:  #3b4cc0;\n",
       "        }    #T_21704edc_2827_11ea_81d6_107b4462da89row6_col6 {\n",
       "            background-color:  #b40426;\n",
       "        }</style>  \n",
       "<table id=\"T_21704edc_2827_11ea_81d6_107b4462da89\" > \n",
       "<thead>    <tr> \n",
       "        <th class=\"blank level0\" ></th> \n",
       "        <th class=\"col_heading level0 col0\" >GDP per capita, PPP (current international $)</th> \n",
       "        <th class=\"col_heading level0 col1\" >Forest area (% of land area)</th> \n",
       "        <th class=\"col_heading level0 col2\" >Renewable energy consumption (% of total final energy consumption)</th> \n",
       "        <th class=\"col_heading level0 col3\" >PM2.5 air pollution, mean annual exposure (micrograms per cubic meter)</th> \n",
       "        <th class=\"col_heading level0 col4\" >CO2 emissions (kt)</th> \n",
       "        <th class=\"col_heading level0 col5\" >Total natural resources rents (% of GDP)</th> \n",
       "        <th class=\"col_heading level0 col6\" >Life expectancy at birth, total (years)</th> \n",
       "    </tr></thead> \n",
       "<tbody>    <tr> \n",
       "        <th id=\"T_21704edc_2827_11ea_81d6_107b4462da89level0_row0\" class=\"row_heading level0 row0\" >GDP per capita, PPP (current international $)</th> \n",
       "        <td id=\"T_21704edc_2827_11ea_81d6_107b4462da89row0_col0\" class=\"data row0 col0\" >1</td> \n",
       "        <td id=\"T_21704edc_2827_11ea_81d6_107b4462da89row0_col1\" class=\"data row0 col1\" >-0.073</td> \n",
       "        <td id=\"T_21704edc_2827_11ea_81d6_107b4462da89row0_col2\" class=\"data row0 col2\" >-0.5</td> \n",
       "        <td id=\"T_21704edc_2827_11ea_81d6_107b4462da89row0_col3\" class=\"data row0 col3\" >-0.12</td> \n",
       "        <td id=\"T_21704edc_2827_11ea_81d6_107b4462da89row0_col4\" class=\"data row0 col4\" >0.1</td> \n",
       "        <td id=\"T_21704edc_2827_11ea_81d6_107b4462da89row0_col5\" class=\"data row0 col5\" >0.07</td> \n",
       "        <td id=\"T_21704edc_2827_11ea_81d6_107b4462da89row0_col6\" class=\"data row0 col6\" >0.61</td> \n",
       "    </tr>    <tr> \n",
       "        <th id=\"T_21704edc_2827_11ea_81d6_107b4462da89level0_row1\" class=\"row_heading level0 row1\" >Forest area (% of land area)</th> \n",
       "        <td id=\"T_21704edc_2827_11ea_81d6_107b4462da89row1_col0\" class=\"data row1 col0\" >-0.073</td> \n",
       "        <td id=\"T_21704edc_2827_11ea_81d6_107b4462da89row1_col1\" class=\"data row1 col1\" >1</td> \n",
       "        <td id=\"T_21704edc_2827_11ea_81d6_107b4462da89row1_col2\" class=\"data row1 col2\" >0.2</td> \n",
       "        <td id=\"T_21704edc_2827_11ea_81d6_107b4462da89row1_col3\" class=\"data row1 col3\" >-0.31</td> \n",
       "        <td id=\"T_21704edc_2827_11ea_81d6_107b4462da89row1_col4\" class=\"data row1 col4\" >-0.026</td> \n",
       "        <td id=\"T_21704edc_2827_11ea_81d6_107b4462da89row1_col5\" class=\"data row1 col5\" >-0.035</td> \n",
       "        <td id=\"T_21704edc_2827_11ea_81d6_107b4462da89row1_col6\" class=\"data row1 col6\" >0.0019</td> \n",
       "    </tr>    <tr> \n",
       "        <th id=\"T_21704edc_2827_11ea_81d6_107b4462da89level0_row2\" class=\"row_heading level0 row2\" >Renewable energy consumption (% of total final energy consumption)</th> \n",
       "        <td id=\"T_21704edc_2827_11ea_81d6_107b4462da89row2_col0\" class=\"data row2 col0\" >-0.5</td> \n",
       "        <td id=\"T_21704edc_2827_11ea_81d6_107b4462da89row2_col1\" class=\"data row2 col1\" >0.2</td> \n",
       "        <td id=\"T_21704edc_2827_11ea_81d6_107b4462da89row2_col2\" class=\"data row2 col2\" >1</td> \n",
       "        <td id=\"T_21704edc_2827_11ea_81d6_107b4462da89row2_col3\" class=\"data row2 col3\" >0.15</td> \n",
       "        <td id=\"T_21704edc_2827_11ea_81d6_107b4462da89row2_col4\" class=\"data row2 col4\" >-0.15</td> \n",
       "        <td id=\"T_21704edc_2827_11ea_81d6_107b4462da89row2_col5\" class=\"data row2 col5\" >0.038</td> \n",
       "        <td id=\"T_21704edc_2827_11ea_81d6_107b4462da89row2_col6\" class=\"data row2 col6\" >-0.67</td> \n",
       "    </tr>    <tr> \n",
       "        <th id=\"T_21704edc_2827_11ea_81d6_107b4462da89level0_row3\" class=\"row_heading level0 row3\" >PM2.5 air pollution, mean annual exposure (micrograms per cubic meter)</th> \n",
       "        <td id=\"T_21704edc_2827_11ea_81d6_107b4462da89row3_col0\" class=\"data row3 col0\" >-0.12</td> \n",
       "        <td id=\"T_21704edc_2827_11ea_81d6_107b4462da89row3_col1\" class=\"data row3 col1\" >-0.31</td> \n",
       "        <td id=\"T_21704edc_2827_11ea_81d6_107b4462da89row3_col2\" class=\"data row3 col2\" >0.15</td> \n",
       "        <td id=\"T_21704edc_2827_11ea_81d6_107b4462da89row3_col3\" class=\"data row3 col3\" >1</td> \n",
       "        <td id=\"T_21704edc_2827_11ea_81d6_107b4462da89row3_col4\" class=\"data row3 col4\" >0.13</td> \n",
       "        <td id=\"T_21704edc_2827_11ea_81d6_107b4462da89row3_col5\" class=\"data row3 col5\" >0.34</td> \n",
       "        <td id=\"T_21704edc_2827_11ea_81d6_107b4462da89row3_col6\" class=\"data row3 col6\" >-0.31</td> \n",
       "    </tr>    <tr> \n",
       "        <th id=\"T_21704edc_2827_11ea_81d6_107b4462da89level0_row4\" class=\"row_heading level0 row4\" >CO2 emissions (kt)</th> \n",
       "        <td id=\"T_21704edc_2827_11ea_81d6_107b4462da89row4_col0\" class=\"data row4 col0\" >0.1</td> \n",
       "        <td id=\"T_21704edc_2827_11ea_81d6_107b4462da89row4_col1\" class=\"data row4 col1\" >-0.026</td> \n",
       "        <td id=\"T_21704edc_2827_11ea_81d6_107b4462da89row4_col2\" class=\"data row4 col2\" >-0.15</td> \n",
       "        <td id=\"T_21704edc_2827_11ea_81d6_107b4462da89row4_col3\" class=\"data row4 col3\" >0.13</td> \n",
       "        <td id=\"T_21704edc_2827_11ea_81d6_107b4462da89row4_col4\" class=\"data row4 col4\" >1</td> \n",
       "        <td id=\"T_21704edc_2827_11ea_81d6_107b4462da89row4_col5\" class=\"data row4 col5\" >-0.048</td> \n",
       "        <td id=\"T_21704edc_2827_11ea_81d6_107b4462da89row4_col6\" class=\"data row4 col6\" >0.13</td> \n",
       "    </tr>    <tr> \n",
       "        <th id=\"T_21704edc_2827_11ea_81d6_107b4462da89level0_row5\" class=\"row_heading level0 row5\" >Total natural resources rents (% of GDP)</th> \n",
       "        <td id=\"T_21704edc_2827_11ea_81d6_107b4462da89row5_col0\" class=\"data row5 col0\" >0.07</td> \n",
       "        <td id=\"T_21704edc_2827_11ea_81d6_107b4462da89row5_col1\" class=\"data row5 col1\" >-0.035</td> \n",
       "        <td id=\"T_21704edc_2827_11ea_81d6_107b4462da89row5_col2\" class=\"data row5 col2\" >0.038</td> \n",
       "        <td id=\"T_21704edc_2827_11ea_81d6_107b4462da89row5_col3\" class=\"data row5 col3\" >0.34</td> \n",
       "        <td id=\"T_21704edc_2827_11ea_81d6_107b4462da89row5_col4\" class=\"data row5 col4\" >-0.048</td> \n",
       "        <td id=\"T_21704edc_2827_11ea_81d6_107b4462da89row5_col5\" class=\"data row5 col5\" >1</td> \n",
       "        <td id=\"T_21704edc_2827_11ea_81d6_107b4462da89row5_col6\" class=\"data row5 col6\" >-0.3</td> \n",
       "    </tr>    <tr> \n",
       "        <th id=\"T_21704edc_2827_11ea_81d6_107b4462da89level0_row6\" class=\"row_heading level0 row6\" >Life expectancy at birth, total (years)</th> \n",
       "        <td id=\"T_21704edc_2827_11ea_81d6_107b4462da89row6_col0\" class=\"data row6 col0\" >0.61</td> \n",
       "        <td id=\"T_21704edc_2827_11ea_81d6_107b4462da89row6_col1\" class=\"data row6 col1\" >0.0019</td> \n",
       "        <td id=\"T_21704edc_2827_11ea_81d6_107b4462da89row6_col2\" class=\"data row6 col2\" >-0.67</td> \n",
       "        <td id=\"T_21704edc_2827_11ea_81d6_107b4462da89row6_col3\" class=\"data row6 col3\" >-0.31</td> \n",
       "        <td id=\"T_21704edc_2827_11ea_81d6_107b4462da89row6_col4\" class=\"data row6 col4\" >0.13</td> \n",
       "        <td id=\"T_21704edc_2827_11ea_81d6_107b4462da89row6_col5\" class=\"data row6 col5\" >-0.3</td> \n",
       "        <td id=\"T_21704edc_2827_11ea_81d6_107b4462da89row6_col6\" class=\"data row6 col6\" >1</td> \n",
       "    </tr></tbody> \n",
       "</table> "
      ],
      "text/plain": [
       "<pandas.io.formats.style.Styler at 0x20f7e0eb588>"
      ]
     },
     "execution_count": 10,
     "metadata": {},
     "output_type": "execute_result"
    }
   ],
   "source": [
    "corr2=dataF2.corr()\n",
    "corr2.style.background_gradient(cmap='coolwarm').set_precision(2)"
   ]
  },
  {
   "cell_type": "code",
   "execution_count": 11,
   "metadata": {},
   "outputs": [
    {
     "name": "stderr",
     "output_type": "stream",
     "text": [
      "C:\\Users\\Sarah\\Anaconda3\\lib\\site-packages\\pandas\\core\\frame.py:3781: SettingWithCopyWarning: \n",
      "A value is trying to be set on a copy of a slice from a DataFrame\n",
      "\n",
      "See the caveats in the documentation: http://pandas.pydata.org/pandas-docs/stable/indexing.html#indexing-view-versus-copy\n",
      "  return super(DataFrame, self).rename(**kwargs)\n"
     ]
    },
    {
     "data": {
      "text/html": [
       "<div>\n",
       "<style scoped>\n",
       "    .dataframe tbody tr th:only-of-type {\n",
       "        vertical-align: middle;\n",
       "    }\n",
       "\n",
       "    .dataframe tbody tr th {\n",
       "        vertical-align: top;\n",
       "    }\n",
       "\n",
       "    .dataframe thead th {\n",
       "        text-align: right;\n",
       "    }\n",
       "</style>\n",
       "<table border=\"1\" class=\"dataframe\">\n",
       "  <thead>\n",
       "    <tr style=\"text-align: right;\">\n",
       "      <th></th>\n",
       "      <th>GDP</th>\n",
       "      <th>Forest area</th>\n",
       "      <th>Renewable energy consumption</th>\n",
       "      <th>PM2.5 air pollution</th>\n",
       "      <th>CO2 emissions</th>\n",
       "      <th>Total natural resources rents</th>\n",
       "      <th>Life expectancy at birth, total</th>\n",
       "    </tr>\n",
       "  </thead>\n",
       "  <tbody>\n",
       "    <tr>\n",
       "      <th>0</th>\n",
       "      <td>1637.377987</td>\n",
       "      <td>2.067825</td>\n",
       "      <td>14.839806</td>\n",
       "      <td>65.245592</td>\n",
       "      <td>8463.436</td>\n",
       "      <td>0.588007</td>\n",
       "      <td>61.028</td>\n",
       "    </tr>\n",
       "    <tr>\n",
       "      <th>1</th>\n",
       "      <td>9628.025783</td>\n",
       "      <td>28.332116</td>\n",
       "      <td>37.115330</td>\n",
       "      <td>21.277828</td>\n",
       "      <td>4598.418</td>\n",
       "      <td>2.033753</td>\n",
       "      <td>76.562</td>\n",
       "    </tr>\n",
       "    <tr>\n",
       "      <th>2</th>\n",
       "      <td>12655.137410</td>\n",
       "      <td>0.805294</td>\n",
       "      <td>0.258072</td>\n",
       "      <td>33.635820</td>\n",
       "      <td>119177.500</td>\n",
       "      <td>26.917567</td>\n",
       "      <td>74.938</td>\n",
       "    </tr>\n",
       "    <tr>\n",
       "      <th>3</th>\n",
       "      <td>6230.297028</td>\n",
       "      <td>46.907837</td>\n",
       "      <td>54.193837</td>\n",
       "      <td>33.787247</td>\n",
       "      <td>29057.308</td>\n",
       "      <td>39.003947</td>\n",
       "      <td>55.350</td>\n",
       "    </tr>\n",
       "    <tr>\n",
       "      <th>4</th>\n",
       "      <td>20134.817247</td>\n",
       "      <td>22.272728</td>\n",
       "      <td>0.000000</td>\n",
       "      <td>22.528876</td>\n",
       "      <td>524.381</td>\n",
       "      <td>0.000000</td>\n",
       "      <td>75.823</td>\n",
       "    </tr>\n",
       "  </tbody>\n",
       "</table>\n",
       "</div>"
      ],
      "text/plain": [
       "            GDP  Forest area  Renewable energy consumption  \\\n",
       "0   1637.377987     2.067825                     14.839806   \n",
       "1   9628.025783    28.332116                     37.115330   \n",
       "2  12655.137410     0.805294                      0.258072   \n",
       "3   6230.297028    46.907837                     54.193837   \n",
       "4  20134.817247    22.272728                      0.000000   \n",
       "\n",
       "   PM2.5 air pollution  CO2 emissions  Total natural resources rents  \\\n",
       "0            65.245592       8463.436                       0.588007   \n",
       "1            21.277828       4598.418                       2.033753   \n",
       "2            33.635820     119177.500                      26.917567   \n",
       "3            33.787247      29057.308                      39.003947   \n",
       "4            22.528876        524.381                       0.000000   \n",
       "\n",
       "   Life expectancy at birth, total  \n",
       "0                           61.028  \n",
       "1                           76.562  \n",
       "2                           74.938  \n",
       "3                           55.350  \n",
       "4                           75.823  "
      ]
     },
     "execution_count": 11,
     "metadata": {},
     "output_type": "execute_result"
    }
   ],
   "source": [
    "dataF2.rename(columns = {'GDP per capita, PPP (current international $)': 'GDP',\n",
    "                         'Forest area (% of land area)':'Forest area',\n",
    "                         'Total natural resources rents (% of GDP)':'Total natural resources rents',\n",
    "                         'PM2.5 air pollution, mean annual exposure (micrograms per cubic meter)':'PM2.5 air pollution',\n",
    "                         'CO2 emissions (kt)':'CO2 emissions',\n",
    "                        'Renewable energy consumption (% of total final energy consumption)':'Renewable energy consumption',\n",
    "                        'Life expectancy at birth, total (years)':'Life expectancy at birth, total'}, inplace=True)\n",
    "dataF2.head()"
   ]
  },
  {
   "cell_type": "markdown",
   "metadata": {},
   "source": [
    "## Nouvelle variable, definition des classes d'objets "
   ]
  },
  {
   "cell_type": "code",
   "execution_count": 12,
   "metadata": {},
   "outputs": [],
   "source": [
    "med=np.median(dataF2['Life expectancy at birth, total'])"
   ]
  },
  {
   "cell_type": "code",
   "execution_count": 13,
   "metadata": {},
   "outputs": [],
   "source": [
    "#n, bins, patches=plt.hist(dataF2['Life expectancy at birth, total'],bins=[45,63,72,76,83])"
   ]
  },
  {
   "cell_type": "code",
   "execution_count": 14,
   "metadata": {},
   "outputs": [],
   "source": [
    "#n,sum(n)"
   ]
  },
  {
   "cell_type": "code",
   "execution_count": 15,
   "metadata": {},
   "outputs": [],
   "source": [
    "#bins"
   ]
  },
  {
   "cell_type": "code",
   "execution_count": 16,
   "metadata": {},
   "outputs": [
    {
     "name": "stderr",
     "output_type": "stream",
     "text": [
      "C:\\Users\\Sarah\\Anaconda3\\lib\\site-packages\\ipykernel_launcher.py:7: SettingWithCopyWarning: \n",
      "A value is trying to be set on a copy of a slice from a DataFrame.\n",
      "Try using .loc[row_indexer,col_indexer] = value instead\n",
      "\n",
      "See the caveats in the documentation: http://pandas.pydata.org/pandas-docs/stable/indexing.html#indexing-view-versus-copy\n",
      "  import sys\n"
     ]
    }
   ],
   "source": [
    "pourcentage=[]\n",
    "for i in range(len(dataF2)):\n",
    "    if dataF2['Life expectancy at birth, total'][i]<med:\n",
    "        pourcentage.append('low')\n",
    "    elif dataF2['Life expectancy at birth, total'][i]>=med:\n",
    "        pourcentage.append('hight')\n",
    "dataF2['Life expectancy at birth, total']=pourcentage"
   ]
  },
  {
   "cell_type": "markdown",
   "metadata": {},
   "source": [
    "pourcentage=[]\n",
    "for i in range(len(dataF2)):\n",
    "    if dataF2['Life expectancy at birth, total'][i]>=45 and dataF2['Life expectancy at birth, total'][i]<63 :\n",
    "        pourcentage.append('45-63')\n",
    "    elif dataF2['Life expectancy at birth, total'][i]>=63 and dataF2['Life expectancy at birth, total'][i]<72 :\n",
    "        pourcentage.append('63-72')\n",
    "    elif dataF2['Life expectancy at birth, total'][i]>=72 and dataF2['Life expectancy at birth, total'][i]<76 :\n",
    "        pourcentage.append('72-76')\n",
    "    elif dataF2['Life expectancy at birth, total'][i]>=76 and dataF2['Life expectancy at birth, total'][i]<83 :\n",
    "        pourcentage.append('76-83')\n",
    "        \n",
    "dataF2['Life expectancy at birth, total']=pourcentage"
   ]
  },
  {
   "cell_type": "code",
   "execution_count": 18,
   "metadata": {},
   "outputs": [
    {
     "data": {
      "text/html": [
       "<div>\n",
       "<style scoped>\n",
       "    .dataframe tbody tr th:only-of-type {\n",
       "        vertical-align: middle;\n",
       "    }\n",
       "\n",
       "    .dataframe tbody tr th {\n",
       "        vertical-align: top;\n",
       "    }\n",
       "\n",
       "    .dataframe thead th {\n",
       "        text-align: right;\n",
       "    }\n",
       "</style>\n",
       "<table border=\"1\" class=\"dataframe\">\n",
       "  <thead>\n",
       "    <tr style=\"text-align: right;\">\n",
       "      <th></th>\n",
       "      <th>GDP</th>\n",
       "      <th>Forest area</th>\n",
       "      <th>Renewable energy consumption</th>\n",
       "      <th>PM2.5 air pollution</th>\n",
       "      <th>CO2 emissions</th>\n",
       "      <th>Total natural resources rents</th>\n",
       "      <th>Life expectancy at birth, total</th>\n",
       "    </tr>\n",
       "  </thead>\n",
       "  <tbody>\n",
       "    <tr>\n",
       "      <th>0</th>\n",
       "      <td>1637.377987</td>\n",
       "      <td>2.067825</td>\n",
       "      <td>14.839806</td>\n",
       "      <td>65.245592</td>\n",
       "      <td>8463.436</td>\n",
       "      <td>0.588007</td>\n",
       "      <td>low</td>\n",
       "    </tr>\n",
       "    <tr>\n",
       "      <th>1</th>\n",
       "      <td>9628.025783</td>\n",
       "      <td>28.332116</td>\n",
       "      <td>37.115330</td>\n",
       "      <td>21.277828</td>\n",
       "      <td>4598.418</td>\n",
       "      <td>2.033753</td>\n",
       "      <td>hight</td>\n",
       "    </tr>\n",
       "    <tr>\n",
       "      <th>2</th>\n",
       "      <td>12655.137410</td>\n",
       "      <td>0.805294</td>\n",
       "      <td>0.258072</td>\n",
       "      <td>33.635820</td>\n",
       "      <td>119177.500</td>\n",
       "      <td>26.917567</td>\n",
       "      <td>hight</td>\n",
       "    </tr>\n",
       "    <tr>\n",
       "      <th>3</th>\n",
       "      <td>6230.297028</td>\n",
       "      <td>46.907837</td>\n",
       "      <td>54.193837</td>\n",
       "      <td>33.787247</td>\n",
       "      <td>29057.308</td>\n",
       "      <td>39.003947</td>\n",
       "      <td>low</td>\n",
       "    </tr>\n",
       "    <tr>\n",
       "      <th>4</th>\n",
       "      <td>20134.817247</td>\n",
       "      <td>22.272728</td>\n",
       "      <td>0.000000</td>\n",
       "      <td>22.528876</td>\n",
       "      <td>524.381</td>\n",
       "      <td>0.000000</td>\n",
       "      <td>hight</td>\n",
       "    </tr>\n",
       "  </tbody>\n",
       "</table>\n",
       "</div>"
      ],
      "text/plain": [
       "            GDP  Forest area  Renewable energy consumption  \\\n",
       "0   1637.377987     2.067825                     14.839806   \n",
       "1   9628.025783    28.332116                     37.115330   \n",
       "2  12655.137410     0.805294                      0.258072   \n",
       "3   6230.297028    46.907837                     54.193837   \n",
       "4  20134.817247    22.272728                      0.000000   \n",
       "\n",
       "   PM2.5 air pollution  CO2 emissions  Total natural resources rents  \\\n",
       "0            65.245592       8463.436                       0.588007   \n",
       "1            21.277828       4598.418                       2.033753   \n",
       "2            33.635820     119177.500                      26.917567   \n",
       "3            33.787247      29057.308                      39.003947   \n",
       "4            22.528876        524.381                       0.000000   \n",
       "\n",
       "  Life expectancy at birth, total  \n",
       "0                             low  \n",
       "1                           hight  \n",
       "2                           hight  \n",
       "3                             low  \n",
       "4                           hight  "
      ]
     },
     "execution_count": 18,
     "metadata": {},
     "output_type": "execute_result"
    }
   ],
   "source": [
    "dataF2.head()"
   ]
  },
  {
   "cell_type": "markdown",
   "metadata": {},
   "source": [
    "# Visualisation des données"
   ]
  },
  {
   "cell_type": "code",
   "execution_count": 19,
   "metadata": {},
   "outputs": [],
   "source": [
    "dataF3=dataF2"
   ]
  },
  {
   "cell_type": "code",
   "execution_count": 20,
   "metadata": {},
   "outputs": [
    {
     "data": {
      "text/html": [
       "<div>\n",
       "<style scoped>\n",
       "    .dataframe tbody tr th:only-of-type {\n",
       "        vertical-align: middle;\n",
       "    }\n",
       "\n",
       "    .dataframe tbody tr th {\n",
       "        vertical-align: top;\n",
       "    }\n",
       "\n",
       "    .dataframe thead th {\n",
       "        text-align: right;\n",
       "    }\n",
       "</style>\n",
       "<table border=\"1\" class=\"dataframe\">\n",
       "  <thead>\n",
       "    <tr style=\"text-align: right;\">\n",
       "      <th></th>\n",
       "      <th>GDP</th>\n",
       "      <th>Forest area</th>\n",
       "      <th>Renewable energy consumption</th>\n",
       "      <th>PM2.5 air pollution</th>\n",
       "      <th>CO2 emissions</th>\n",
       "      <th>Total natural resources rents</th>\n",
       "      <th>Life expectancy at birth, total</th>\n",
       "    </tr>\n",
       "  </thead>\n",
       "  <tbody>\n",
       "    <tr>\n",
       "      <th>count</th>\n",
       "      <td>174.000000</td>\n",
       "      <td>174.000000</td>\n",
       "      <td>174.000000</td>\n",
       "      <td>174.000000</td>\n",
       "      <td>1.740000e+02</td>\n",
       "      <td>174.000000</td>\n",
       "      <td>174</td>\n",
       "    </tr>\n",
       "    <tr>\n",
       "      <th>unique</th>\n",
       "      <td>NaN</td>\n",
       "      <td>NaN</td>\n",
       "      <td>NaN</td>\n",
       "      <td>NaN</td>\n",
       "      <td>NaN</td>\n",
       "      <td>NaN</td>\n",
       "      <td>2</td>\n",
       "    </tr>\n",
       "    <tr>\n",
       "      <th>top</th>\n",
       "      <td>NaN</td>\n",
       "      <td>NaN</td>\n",
       "      <td>NaN</td>\n",
       "      <td>NaN</td>\n",
       "      <td>NaN</td>\n",
       "      <td>NaN</td>\n",
       "      <td>hight</td>\n",
       "    </tr>\n",
       "    <tr>\n",
       "      <th>freq</th>\n",
       "      <td>NaN</td>\n",
       "      <td>NaN</td>\n",
       "      <td>NaN</td>\n",
       "      <td>NaN</td>\n",
       "      <td>NaN</td>\n",
       "      <td>NaN</td>\n",
       "      <td>87</td>\n",
       "    </tr>\n",
       "    <tr>\n",
       "      <th>mean</th>\n",
       "      <td>16100.394404</td>\n",
       "      <td>31.769154</td>\n",
       "      <td>33.617889</td>\n",
       "      <td>29.112650</td>\n",
       "      <td>1.803082e+05</td>\n",
       "      <td>9.235423</td>\n",
       "      <td>NaN</td>\n",
       "    </tr>\n",
       "    <tr>\n",
       "      <th>std</th>\n",
       "      <td>17510.275230</td>\n",
       "      <td>23.224987</td>\n",
       "      <td>30.098870</td>\n",
       "      <td>17.243744</td>\n",
       "      <td>8.039393e+05</td>\n",
       "      <td>12.510526</td>\n",
       "      <td>NaN</td>\n",
       "    </tr>\n",
       "    <tr>\n",
       "      <th>min</th>\n",
       "      <td>646.295395</td>\n",
       "      <td>0.000000</td>\n",
       "      <td>0.000000</td>\n",
       "      <td>7.152866</td>\n",
       "      <td>6.233900e+01</td>\n",
       "      <td>0.000000</td>\n",
       "      <td>NaN</td>\n",
       "    </tr>\n",
       "    <tr>\n",
       "      <th>25%</th>\n",
       "      <td>3420.525795</td>\n",
       "      <td>11.657300</td>\n",
       "      <td>7.656136</td>\n",
       "      <td>17.285109</td>\n",
       "      <td>2.437638e+03</td>\n",
       "      <td>0.904782</td>\n",
       "      <td>NaN</td>\n",
       "    </tr>\n",
       "    <tr>\n",
       "      <th>50%</th>\n",
       "      <td>9811.045521</td>\n",
       "      <td>31.189832</td>\n",
       "      <td>24.837116</td>\n",
       "      <td>25.996765</td>\n",
       "      <td>1.191958e+04</td>\n",
       "      <td>3.150320</td>\n",
       "      <td>NaN</td>\n",
       "    </tr>\n",
       "    <tr>\n",
       "      <th>75%</th>\n",
       "      <td>20937.548169</td>\n",
       "      <td>49.328454</td>\n",
       "      <td>54.577321</td>\n",
       "      <td>34.289539</td>\n",
       "      <td>7.244342e+04</td>\n",
       "      <td>12.279648</td>\n",
       "      <td>NaN</td>\n",
       "    </tr>\n",
       "    <tr>\n",
       "      <th>max</th>\n",
       "      <td>117518.700908</td>\n",
       "      <td>98.403846</td>\n",
       "      <td>96.827822</td>\n",
       "      <td>100.784428</td>\n",
       "      <td>8.776040e+06</td>\n",
       "      <td>54.329641</td>\n",
       "      <td>NaN</td>\n",
       "    </tr>\n",
       "  </tbody>\n",
       "</table>\n",
       "</div>"
      ],
      "text/plain": [
       "                  GDP  Forest area  Renewable energy consumption  \\\n",
       "count      174.000000   174.000000                    174.000000   \n",
       "unique            NaN          NaN                           NaN   \n",
       "top               NaN          NaN                           NaN   \n",
       "freq              NaN          NaN                           NaN   \n",
       "mean     16100.394404    31.769154                     33.617889   \n",
       "std      17510.275230    23.224987                     30.098870   \n",
       "min        646.295395     0.000000                      0.000000   \n",
       "25%       3420.525795    11.657300                      7.656136   \n",
       "50%       9811.045521    31.189832                     24.837116   \n",
       "75%      20937.548169    49.328454                     54.577321   \n",
       "max     117518.700908    98.403846                     96.827822   \n",
       "\n",
       "        PM2.5 air pollution  CO2 emissions  Total natural resources rents  \\\n",
       "count            174.000000   1.740000e+02                     174.000000   \n",
       "unique                  NaN            NaN                            NaN   \n",
       "top                     NaN            NaN                            NaN   \n",
       "freq                    NaN            NaN                            NaN   \n",
       "mean              29.112650   1.803082e+05                       9.235423   \n",
       "std               17.243744   8.039393e+05                      12.510526   \n",
       "min                7.152866   6.233900e+01                       0.000000   \n",
       "25%               17.285109   2.437638e+03                       0.904782   \n",
       "50%               25.996765   1.191958e+04                       3.150320   \n",
       "75%               34.289539   7.244342e+04                      12.279648   \n",
       "max              100.784428   8.776040e+06                      54.329641   \n",
       "\n",
       "       Life expectancy at birth, total  \n",
       "count                              174  \n",
       "unique                               2  \n",
       "top                              hight  \n",
       "freq                                87  \n",
       "mean                               NaN  \n",
       "std                                NaN  \n",
       "min                                NaN  \n",
       "25%                                NaN  \n",
       "50%                                NaN  \n",
       "75%                                NaN  \n",
       "max                                NaN  "
      ]
     },
     "execution_count": 20,
     "metadata": {},
     "output_type": "execute_result"
    }
   ],
   "source": [
    "dataF3.describe(include='all')"
   ]
  },
  {
   "cell_type": "markdown",
   "metadata": {},
   "source": [
    "### Normlaisation des données\n",
    "\n",
    "Pour déterminer des groupes de vins qui se ressemblent, on commence par normaliser les données car nos\n",
    "variables ont des unités très différentes. Cette étape permet de donner le même poids à chaque variable (pour\n",
    "que les variables ayant des valeurs plus grandes n’aient pas une influence disproportionnée)."
   ]
  },
  {
   "cell_type": "code",
   "execution_count": 21,
   "metadata": {},
   "outputs": [],
   "source": [
    "cols =list(dataF3.columns)\n",
    "cols.remove('Life expectancy at birth, total') "
   ]
  },
  {
   "cell_type": "code",
   "execution_count": 22,
   "metadata": {},
   "outputs": [
    {
     "name": "stderr",
     "output_type": "stream",
     "text": [
      "C:\\Users\\Sarah\\Anaconda3\\lib\\site-packages\\pandas\\core\\frame.py:3140: SettingWithCopyWarning: \n",
      "A value is trying to be set on a copy of a slice from a DataFrame.\n",
      "Try using .loc[row_indexer,col_indexer] = value instead\n",
      "\n",
      "See the caveats in the documentation: http://pandas.pydata.org/pandas-docs/stable/indexing.html#indexing-view-versus-copy\n",
      "  self[k1] = value[k2]\n"
     ]
    }
   ],
   "source": [
    "dataF3[cols]=dataF3[cols].apply(zscore,axis=0)"
   ]
  },
  {
   "cell_type": "code",
   "execution_count": 23,
   "metadata": {},
   "outputs": [
    {
     "data": {
      "text/html": [
       "<div>\n",
       "<style scoped>\n",
       "    .dataframe tbody tr th:only-of-type {\n",
       "        vertical-align: middle;\n",
       "    }\n",
       "\n",
       "    .dataframe tbody tr th {\n",
       "        vertical-align: top;\n",
       "    }\n",
       "\n",
       "    .dataframe thead th {\n",
       "        text-align: right;\n",
       "    }\n",
       "</style>\n",
       "<table border=\"1\" class=\"dataframe\">\n",
       "  <thead>\n",
       "    <tr style=\"text-align: right;\">\n",
       "      <th></th>\n",
       "      <th>GDP</th>\n",
       "      <th>Forest area</th>\n",
       "      <th>Renewable energy consumption</th>\n",
       "      <th>PM2.5 air pollution</th>\n",
       "      <th>CO2 emissions</th>\n",
       "      <th>Total natural resources rents</th>\n",
       "    </tr>\n",
       "  </thead>\n",
       "  <tbody>\n",
       "    <tr>\n",
       "      <th>count</th>\n",
       "      <td>1.740000e+02</td>\n",
       "      <td>1.740000e+02</td>\n",
       "      <td>1.740000e+02</td>\n",
       "      <td>1.740000e+02</td>\n",
       "      <td>1.740000e+02</td>\n",
       "      <td>1.740000e+02</td>\n",
       "    </tr>\n",
       "    <tr>\n",
       "      <th>mean</th>\n",
       "      <td>5.806339e-17</td>\n",
       "      <td>-1.843991e-16</td>\n",
       "      <td>-1.556864e-16</td>\n",
       "      <td>-5.710630e-17</td>\n",
       "      <td>6.540107e-18</td>\n",
       "      <td>-1.547294e-17</td>\n",
       "    </tr>\n",
       "    <tr>\n",
       "      <th>std</th>\n",
       "      <td>1.002886e+00</td>\n",
       "      <td>1.002886e+00</td>\n",
       "      <td>1.002886e+00</td>\n",
       "      <td>1.002886e+00</td>\n",
       "      <td>1.002886e+00</td>\n",
       "      <td>1.002886e+00</td>\n",
       "    </tr>\n",
       "    <tr>\n",
       "      <th>min</th>\n",
       "      <td>-8.851203e-01</td>\n",
       "      <td>-1.371835e+00</td>\n",
       "      <td>-1.120139e+00</td>\n",
       "      <td>-1.277168e+00</td>\n",
       "      <td>-2.248504e-01</td>\n",
       "      <td>-7.403427e-01</td>\n",
       "    </tr>\n",
       "    <tr>\n",
       "      <th>25%</th>\n",
       "      <td>-7.262286e-01</td>\n",
       "      <td>-8.684567e-01</td>\n",
       "      <td>-8.650384e-01</td>\n",
       "      <td>-6.878828e-01</td>\n",
       "      <td>-2.218873e-01</td>\n",
       "      <td>-6.678123e-01</td>\n",
       "    </tr>\n",
       "    <tr>\n",
       "      <th>50%</th>\n",
       "      <td>-3.602171e-01</td>\n",
       "      <td>-2.501589e-02</td>\n",
       "      <td>-2.925729e-01</td>\n",
       "      <td>-1.812180e-01</td>\n",
       "      <td>-2.100589e-01</td>\n",
       "      <td>-4.878024e-01</td>\n",
       "    </tr>\n",
       "    <tr>\n",
       "      <th>75%</th>\n",
       "      <td>2.770438e-01</td>\n",
       "      <td>7.582341e-01</td>\n",
       "      <td>6.983625e-01</td>\n",
       "      <td>3.010849e-01</td>\n",
       "      <td>-1.345575e-01</td>\n",
       "      <td>2.440354e-01</td>\n",
       "    </tr>\n",
       "    <tr>\n",
       "      <th>max</th>\n",
       "      <td>5.808647e+00</td>\n",
       "      <td>2.877375e+00</td>\n",
       "      <td>2.106137e+00</td>\n",
       "      <td>4.168389e+00</td>\n",
       "      <td>1.072287e+01</td>\n",
       "      <td>3.614905e+00</td>\n",
       "    </tr>\n",
       "  </tbody>\n",
       "</table>\n",
       "</div>"
      ],
      "text/plain": [
       "                GDP   Forest area  Renewable energy consumption  \\\n",
       "count  1.740000e+02  1.740000e+02                  1.740000e+02   \n",
       "mean   5.806339e-17 -1.843991e-16                 -1.556864e-16   \n",
       "std    1.002886e+00  1.002886e+00                  1.002886e+00   \n",
       "min   -8.851203e-01 -1.371835e+00                 -1.120139e+00   \n",
       "25%   -7.262286e-01 -8.684567e-01                 -8.650384e-01   \n",
       "50%   -3.602171e-01 -2.501589e-02                 -2.925729e-01   \n",
       "75%    2.770438e-01  7.582341e-01                  6.983625e-01   \n",
       "max    5.808647e+00  2.877375e+00                  2.106137e+00   \n",
       "\n",
       "       PM2.5 air pollution  CO2 emissions  Total natural resources rents  \n",
       "count         1.740000e+02   1.740000e+02                   1.740000e+02  \n",
       "mean         -5.710630e-17   6.540107e-18                  -1.547294e-17  \n",
       "std           1.002886e+00   1.002886e+00                   1.002886e+00  \n",
       "min          -1.277168e+00  -2.248504e-01                  -7.403427e-01  \n",
       "25%          -6.878828e-01  -2.218873e-01                  -6.678123e-01  \n",
       "50%          -1.812180e-01  -2.100589e-01                  -4.878024e-01  \n",
       "75%           3.010849e-01  -1.345575e-01                   2.440354e-01  \n",
       "max           4.168389e+00   1.072287e+01                   3.614905e+00  "
      ]
     },
     "execution_count": 23,
     "metadata": {},
     "output_type": "execute_result"
    }
   ],
   "source": [
    "dataF3.describe()"
   ]
  },
  {
   "cell_type": "code",
   "execution_count": 24,
   "metadata": {},
   "outputs": [
    {
     "data": {
      "text/html": [
       "<div>\n",
       "<style scoped>\n",
       "    .dataframe tbody tr th:only-of-type {\n",
       "        vertical-align: middle;\n",
       "    }\n",
       "\n",
       "    .dataframe tbody tr th {\n",
       "        vertical-align: top;\n",
       "    }\n",
       "\n",
       "    .dataframe thead th {\n",
       "        text-align: right;\n",
       "    }\n",
       "</style>\n",
       "<table border=\"1\" class=\"dataframe\">\n",
       "  <thead>\n",
       "    <tr style=\"text-align: right;\">\n",
       "      <th></th>\n",
       "      <th>GDP</th>\n",
       "      <th>Forest area</th>\n",
       "      <th>Renewable energy consumption</th>\n",
       "      <th>PM2.5 air pollution</th>\n",
       "      <th>CO2 emissions</th>\n",
       "      <th>Total natural resources rents</th>\n",
       "      <th>Life expectancy at birth, total</th>\n",
       "    </tr>\n",
       "  </thead>\n",
       "  <tbody>\n",
       "    <tr>\n",
       "      <th>0</th>\n",
       "      <td>-0.828357</td>\n",
       "      <td>-1.282543</td>\n",
       "      <td>-0.625681</td>\n",
       "      <td>2.101471</td>\n",
       "      <td>-0.214370</td>\n",
       "      <td>-0.693206</td>\n",
       "      <td>low</td>\n",
       "    </tr>\n",
       "    <tr>\n",
       "      <th>1</th>\n",
       "      <td>-0.370699</td>\n",
       "      <td>-0.148416</td>\n",
       "      <td>0.116534</td>\n",
       "      <td>-0.455669</td>\n",
       "      <td>-0.219192</td>\n",
       "      <td>-0.577310</td>\n",
       "      <td>hight</td>\n",
       "    </tr>\n",
       "    <tr>\n",
       "      <th>2</th>\n",
       "      <td>-0.197324</td>\n",
       "      <td>-1.337061</td>\n",
       "      <td>-1.111540</td>\n",
       "      <td>0.263065</td>\n",
       "      <td>-0.076258</td>\n",
       "      <td>1.417460</td>\n",
       "      <td>hight</td>\n",
       "    </tr>\n",
       "    <tr>\n",
       "      <th>3</th>\n",
       "      <td>-0.565301</td>\n",
       "      <td>0.653709</td>\n",
       "      <td>0.685585</td>\n",
       "      <td>0.271872</td>\n",
       "      <td>-0.188680</td>\n",
       "      <td>2.386345</td>\n",
       "      <td>low</td>\n",
       "    </tr>\n",
       "    <tr>\n",
       "      <th>4</th>\n",
       "      <td>0.231068</td>\n",
       "      <td>-0.410068</td>\n",
       "      <td>-1.120139</td>\n",
       "      <td>-0.382908</td>\n",
       "      <td>-0.224274</td>\n",
       "      <td>-0.740343</td>\n",
       "      <td>hight</td>\n",
       "    </tr>\n",
       "  </tbody>\n",
       "</table>\n",
       "</div>"
      ],
      "text/plain": [
       "        GDP  Forest area  Renewable energy consumption  PM2.5 air pollution  \\\n",
       "0 -0.828357    -1.282543                     -0.625681             2.101471   \n",
       "1 -0.370699    -0.148416                      0.116534            -0.455669   \n",
       "2 -0.197324    -1.337061                     -1.111540             0.263065   \n",
       "3 -0.565301     0.653709                      0.685585             0.271872   \n",
       "4  0.231068    -0.410068                     -1.120139            -0.382908   \n",
       "\n",
       "   CO2 emissions  Total natural resources rents  \\\n",
       "0      -0.214370                      -0.693206   \n",
       "1      -0.219192                      -0.577310   \n",
       "2      -0.076258                       1.417460   \n",
       "3      -0.188680                       2.386345   \n",
       "4      -0.224274                      -0.740343   \n",
       "\n",
       "  Life expectancy at birth, total  \n",
       "0                             low  \n",
       "1                           hight  \n",
       "2                           hight  \n",
       "3                             low  \n",
       "4                           hight  "
      ]
     },
     "execution_count": 24,
     "metadata": {},
     "output_type": "execute_result"
    }
   ],
   "source": [
    "dataF3.head()"
   ]
  },
  {
   "cell_type": "code",
   "execution_count": 21,
   "metadata": {},
   "outputs": [
    {
     "data": {
      "text/plain": [
       "<seaborn.axisgrid.PairGrid at 0x1a211097b8>"
      ]
     },
     "execution_count": 21,
     "metadata": {},
     "output_type": "execute_result"
    },
    {
     "data": {
      "image/png": "[encoded data removed]",
      "text/plain": [
       "<Figure size 1235.62x1080 with 42 Axes>"
      ]
     },
     "metadata": {
      "needs_background": "light"
     },
     "output_type": "display_data"
    }
   ],
   "source": [
    "sns.pairplot(data=dataF3, hue='Life expectancy at birth, total')"
   ]
  },
  {
   "cell_type": "markdown",
   "metadata": {},
   "source": [
    "## Identification des outliers (?)"
   ]
  },
  {
   "cell_type": "code",
   "execution_count": 22,
   "metadata": {},
   "outputs": [
    {
     "data": {
      "text/plain": [
       "<matplotlib.axes._subplots.AxesSubplot at 0x1a22ff6dd8>"
      ]
     },
     "execution_count": 22,
     "metadata": {},
     "output_type": "execute_result"
    },
    {
     "data": {
      "image/png": "[encoded data removed]",
      "text/plain": [
       "<Figure size 432x288 with 1 Axes>"
      ]
     },
     "metadata": {
      "needs_background": "light"
     },
     "output_type": "display_data"
    }
   ],
   "source": [
    "dataF3.boxplot()"
   ]
  },
  {
   "cell_type": "markdown",
   "metadata": {},
   "source": [
    "# Recherche de clusters\n",
    "On réalise un clustering hiérarchique en méthode single avec distance euclidienne sur notre jeu\n",
    "de données. Nous cherchons ici à déterminer des clusters de type contour. Cette représentation nous permet\n",
    "aussi de prendre une décision quant à nos outliers."
   ]
  },
  {
   "cell_type": "markdown",
   "metadata": {},
   "source": [
    "## Kmeans \n",
    "Nous cherchons des clusters sphériques grâce à la méthode des k-means.\n",
    "Afin de déterminer le nombre de groupes que l’on va créer, on fait varier le nombre de groupes dans notre\n",
    "k-means puis on calcule la SSE totale de notre clustering. Le nombre de groupes que l’on retient est\n",
    "celui qui donne une SSE suffisamment faible avec un nombre de groupes suffisamment petit."
   ]
  },
  {
   "cell_type": "code",
   "execution_count": 25,
   "metadata": {},
   "outputs": [],
   "source": [
    "classes = dataF3['Life expectancy at birth, total']\n",
    "objects = dataF3.drop(['Life expectancy at birth, total'],axis=1)"
   ]
  },
  {
   "cell_type": "code",
   "execution_count": 26,
   "metadata": {},
   "outputs": [
    {
     "name": "stdout",
     "output_type": "stream",
     "text": [
      "[843.5129310784861, 688.0297946672817, 542.7550674901422, 468.599758541621, 417.51328973564443, 369.07419200025106, 329.741691665791, 296.3643581102889, 263.8547924696808]\n"
     ]
    }
   ],
   "source": [
    "# Get SSE when varying the number of clusters\n",
    "sse_list = []\n",
    "k_list = range(2,11)\n",
    "for i in k_list:\n",
    "    km_i_clusters=KMeans(n_clusters=i)\n",
    "    km_i_clusters.fit(objects)\n",
    "    sse_list = sse_list + [km_i_clusters.inertia_]\n",
    "print(sse_list)"
   ]
  },
  {
   "cell_type": "code",
   "execution_count": 27,
   "metadata": {},
   "outputs": [
    {
     "data": {
      "text/plain": [
       "Text(0, 0.5, 'SSE')"
      ]
     },
     "execution_count": 27,
     "metadata": {},
     "output_type": "execute_result"
    },
    {
     "data": {
      "image/png": "[encoded data removed]",
      "text/plain": [
       "<Figure size 504x288 with 1 Axes>"
      ]
     },
     "metadata": {
      "needs_background": "light"
     },
     "output_type": "display_data"
    }
   ],
   "source": [
    "fig = plt.figure(figsize=(7, 4))\n",
    "plt.plot(k_list,sse_list,'bo--')\n",
    "plt.grid()\n",
    "plt.xlabel(\"nb of clusters\",fontsize=14)\n",
    "plt.ylabel(\"SSE\",fontsize=14)"
   ]
  },
  {
   "cell_type": "code",
   "execution_count": 28,
   "metadata": {},
   "outputs": [],
   "source": [
    "km=KMeans(n_clusters=4)\n",
    "km.fit(objects) # compute the clusters --> lancer le kmeans\n",
    "centroids=km.cluster_centers_"
   ]
  },
  {
   "cell_type": "code",
   "execution_count": 29,
   "metadata": {},
   "outputs": [
    {
     "data": {
      "text/plain": [
       "<matplotlib.axes._subplots.AxesSubplot at 0x20f7e2305c0>"
      ]
     },
     "execution_count": 29,
     "metadata": {},
     "output_type": "execute_result"
    },
    {
     "data": {
      "image/png": "[encoded data removed]",
      "text/plain": [
       "<Figure size 432x288 with 1 Axes>"
      ]
     },
     "metadata": {
      "needs_background": "light"
     },
     "output_type": "display_data"
    }
   ],
   "source": [
    "sns.scatterplot(data=dataF3, x=\"Forest area\", y='GDP', hue='Life expectancy at birth, total')\n",
    "# plot the centroids\n",
    "sns.regplot(x=centroids[:,dataF3.columns.get_loc(\"Forest area\")], y=centroids[:,dataF3.columns.get_loc(\"GDP\")],\n",
    "            scatter=True, fit_reg=False, marker='x', scatter_kws={\"s\": 100}, color=\"r\")"
   ]
  },
  {
   "cell_type": "markdown",
   "metadata": {},
   "source": [
    "### Étude de la stabilité de la convergence de K-means"
   ]
  },
  {
   "cell_type": "markdown",
   "metadata": {},
   "source": [
    "## Hierarchical clustering (complete/single)"
   ]
  },
  {
   "cell_type": "markdown",
   "metadata": {},
   "source": [
    "### Deandrograms for hierarchical clustering"
   ]
  },
  {
   "cell_type": "markdown",
   "metadata": {},
   "source": [
    "## DBSCAN"
   ]
  },
  {
   "cell_type": "markdown",
   "metadata": {},
   "source": [
    "# CLASSIFICATION"
   ]
  },
  {
   "cell_type": "code",
   "execution_count": 30,
   "metadata": {},
   "outputs": [],
   "source": [
    "#X = dataF3.drop(['GDP'],axis=1)\n",
    "#Y=dataF3['GDP']\n",
    "X = dataF3.drop(['Life expectancy at birth, total'],axis=1)\n",
    "Y=dataF3['Life expectancy at birth, total']"
   ]
  },
  {
   "cell_type": "code",
   "execution_count": 31,
   "metadata": {},
   "outputs": [],
   "source": [
    "#On randomize la BD pour pouvoir avoir un jeu d'entrainement et un jeu test\n",
    "#Random_state: on fixe la graine du générateur pseudo aléatoire\n",
    "X_train,X_test,Y_train,Y_test=train_test_split(X,Y,test_size=0.33,random_state=10)"
   ]
  },
  {
   "cell_type": "code",
   "execution_count": 32,
   "metadata": {},
   "outputs": [
    {
     "data": {
      "text/plain": [
       "Counter({'hight': 31, 'low': 27})"
      ]
     },
     "execution_count": 32,
     "metadata": {},
     "output_type": "execute_result"
    }
   ],
   "source": [
    "#On vérifier la distribution \n",
    "Counter(Y_test)"
   ]
  },
  {
   "cell_type": "code",
   "execution_count": 31,
   "metadata": {},
   "outputs": [],
   "source": [
    "dt= tree.DecisionTreeClassifier() #constructeur de decision tree "
   ]
  },
  {
   "cell_type": "code",
   "execution_count": 32,
   "metadata": {},
   "outputs": [
    {
     "data": {
      "text/plain": [
       "DecisionTreeClassifier(class_weight=None, criterion='gini', max_depth=None,\n",
       "                       max_features=None, max_leaf_nodes=None,\n",
       "                       min_impurity_decrease=0.0, min_impurity_split=None,\n",
       "                       min_samples_leaf=1, min_samples_split=2,\n",
       "                       min_weight_fraction_leaf=0.0, presort=False,\n",
       "                       random_state=None, splitter='best')"
      ]
     },
     "execution_count": 32,
     "metadata": {},
     "output_type": "execute_result"
    }
   ],
   "source": [
    "dt.fit(X_train,Y_train)"
   ]
  },
  {
   "cell_type": "code",
   "execution_count": 33,
   "metadata": {},
   "outputs": [],
   "source": [
    "Y_predict=dt.predict(X_test)"
   ]
  },
  {
   "cell_type": "markdown",
   "metadata": {},
   "source": [
    "## Confusion matrix"
   ]
  },
  {
   "cell_type": "code",
   "execution_count": 34,
   "metadata": {},
   "outputs": [
    {
     "data": {
      "text/html": [
       "<div>\n",
       "<style scoped>\n",
       "    .dataframe tbody tr th:only-of-type {\n",
       "        vertical-align: middle;\n",
       "    }\n",
       "\n",
       "    .dataframe tbody tr th {\n",
       "        vertical-align: top;\n",
       "    }\n",
       "\n",
       "    .dataframe thead th {\n",
       "        text-align: right;\n",
       "    }\n",
       "</style>\n",
       "<table border=\"1\" class=\"dataframe\">\n",
       "  <thead>\n",
       "    <tr style=\"text-align: right;\">\n",
       "      <th>col_0</th>\n",
       "      <th>hight</th>\n",
       "      <th>low</th>\n",
       "    </tr>\n",
       "    <tr>\n",
       "      <th>Life expectancy at birth, total</th>\n",
       "      <th></th>\n",
       "      <th></th>\n",
       "    </tr>\n",
       "  </thead>\n",
       "  <tbody>\n",
       "    <tr>\n",
       "      <th>hight</th>\n",
       "      <td>28</td>\n",
       "      <td>3</td>\n",
       "    </tr>\n",
       "    <tr>\n",
       "      <th>low</th>\n",
       "      <td>9</td>\n",
       "      <td>18</td>\n",
       "    </tr>\n",
       "  </tbody>\n",
       "</table>\n",
       "</div>"
      ],
      "text/plain": [
       "col_0                            hight  low\n",
       "Life expectancy at birth, total            \n",
       "hight                               28    3\n",
       "low                                  9   18"
      ]
     },
     "execution_count": 34,
     "metadata": {},
     "output_type": "execute_result"
    }
   ],
   "source": [
    "#lignes vrai classes des objets\n",
    "#colonnes classes des predits \n",
    "pd.crosstab(Y_test,Y_predict)"
   ]
  },
  {
   "cell_type": "markdown",
   "metadata": {},
   "source": [
    "## Metrics"
   ]
  },
  {
   "cell_type": "code",
   "execution_count": 35,
   "metadata": {},
   "outputs": [
    {
     "data": {
      "text/plain": [
       "0.7931034482758621"
      ]
     },
     "execution_count": 35,
     "metadata": {},
     "output_type": "execute_result"
    }
   ],
   "source": [
    "accuracy_score(Y_test,Y_predict)"
   ]
  },
  {
   "cell_type": "code",
   "execution_count": 36,
   "metadata": {},
   "outputs": [
    {
     "data": {
      "text/plain": [
       "(0.8034882172813208, 0.8069498069498069)"
      ]
     },
     "execution_count": 36,
     "metadata": {},
     "output_type": "execute_result"
    }
   ],
   "source": [
    "precision_score(Y_test,Y_predict,average=\"weighted\"), precision_score(Y_test,Y_predict,average=\"macro\")"
   ]
  },
  {
   "cell_type": "code",
   "execution_count": 37,
   "metadata": {},
   "outputs": [
    {
     "data": {
      "text/plain": [
       "(0.7931034482758621, 0.7849462365591398)"
      ]
     },
     "execution_count": 37,
     "metadata": {},
     "output_type": "execute_result"
    }
   ],
   "source": [
    "recall_score(Y_test,Y_predict,average=\"weighted\"), recall_score(Y_test,Y_predict,average=\"macro\")"
   ]
  },
  {
   "cell_type": "code",
   "execution_count": 38,
   "metadata": {},
   "outputs": [
    {
     "data": {
      "text/plain": [
       "(0.7893002028397567, 0.786764705882353)"
      ]
     },
     "execution_count": 38,
     "metadata": {},
     "output_type": "execute_result"
    }
   ],
   "source": [
    "f1_score(Y_test,Y_predict,average=\"weighted\"), f1_score(Y_test,Y_predict,average=\"macro\")"
   ]
  },
  {
   "cell_type": "code",
   "execution_count": 39,
   "metadata": {},
   "outputs": [
    {
     "name": "stdout",
     "output_type": "stream",
     "text": [
      "              precision    recall  f1-score   support\n",
      "\n",
      "       hight       0.76      0.90      0.82        31\n",
      "         low       0.86      0.67      0.75        27\n",
      "\n",
      "    accuracy                           0.79        58\n",
      "   macro avg       0.81      0.78      0.79        58\n",
      "weighted avg       0.80      0.79      0.79        58\n",
      "\n"
     ]
    }
   ],
   "source": [
    "print(classification_report(Y_test, Y_predict))"
   ]
  },
  {
   "cell_type": "markdown",
   "metadata": {},
   "source": [
    "## Decision tree"
   ]
  },
  {
   "cell_type": "code",
   "execution_count": 40,
   "metadata": {},
   "outputs": [
    {
     "data": {
      "image/png": "[encoded data removed]",
      "text/plain": [
       "<Figure size 432x288 with 1 Axes>"
      ]
     },
     "metadata": {
      "needs_background": "light"
     },
     "output_type": "display_data"
    }
   ],
   "source": [
    "\n",
    "_=plot_tree(dt,filled=True,class_names=dt.classes_)"
   ]
  },
  {
   "cell_type": "code",
   "execution_count": 41,
   "metadata": {},
   "outputs": [
    {
     "data": {
      "text/plain": [
       "'out_iris_decision_tree.pdf'"
      ]
     },
     "execution_count": 41,
     "metadata": {},
     "output_type": "execute_result"
    }
   ],
   "source": [
    "dot_data = export_graphviz(dt, out_file=None, \n",
    "                           feature_names=X.columns,\n",
    "                           class_names=dt.classes_, \n",
    "                           filled=True, rounded=True) \n",
    "graph = graphviz.Source(dot_data)\n",
    "graph\n",
    "graph.render(\"out_iris_decision_tree\")"
   ]
  },
  {
   "cell_type": "markdown",
   "metadata": {},
   "source": [
    "## Crossvalidation"
   ]
  },
  {
   "cell_type": "code",
   "execution_count": 42,
   "metadata": {},
   "outputs": [],
   "source": [
    "from sklearn.model_selection import StratifiedKFold #cross-validation splitter\n",
    "from sklearn.model_selection import cross_validate #cross-validation evaluation of metrics"
   ]
  },
  {
   "cell_type": "markdown",
   "metadata": {},
   "source": [
    "__Metriques qu'on va évaluer__"
   ]
  },
  {
   "cell_type": "code",
   "execution_count": 44,
   "metadata": {},
   "outputs": [],
   "source": [
    "scoring = ['accuracy',\n",
    "           'precision_macro',\n",
    "           'precision_weighted',\n",
    "           'recall_macro',\n",
    "           'recall_weighted',\n",
    "           'f1_macro',\n",
    "           'f1_weighted']"
   ]
  },
  {
   "cell_type": "markdown",
   "metadata": {},
   "source": [
    "__stritfied crossvalidation__"
   ]
  },
  {
   "cell_type": "code",
   "execution_count": 45,
   "metadata": {},
   "outputs": [],
   "source": [
    "cv1 = StratifiedKFold(n_splits=5, random_state=0, shuffle=True)\n"
   ]
  },
  {
   "cell_type": "code",
   "execution_count": 47,
   "metadata": {},
   "outputs": [],
   "source": [
    "scores1 = cross_validate(dt, X, Y, scoring=scoring,\n",
    "                        cv=cv1, return_train_score=True)"
   ]
  },
  {
   "cell_type": "code",
   "execution_count": 49,
   "metadata": {},
   "outputs": [
    {
     "data": {
      "text/plain": [
       "fit_time                    0.004017\n",
       "score_time                  0.017797\n",
       "test_accuracy               0.776144\n",
       "train_accuracy              1.000000\n",
       "test_precision_macro        0.788024\n",
       "train_precision_macro       1.000000\n",
       "test_precision_weighted     0.788024\n",
       "train_precision_weighted    1.000000\n",
       "test_recall_macro           0.776144\n",
       "train_recall_macro          1.000000\n",
       "test_recall_weighted        0.776144\n",
       "train_recall_weighted       1.000000\n",
       "test_f1_macro               0.773036\n",
       "train_f1_macro              1.000000\n",
       "test_f1_weighted            0.773036\n",
       "train_f1_weighted           1.000000\n",
       "dtype: float64"
      ]
     },
     "execution_count": 49,
     "metadata": {},
     "output_type": "execute_result"
    }
   ],
   "source": [
    "pd.DataFrame(scores1).mean()"
   ]
  },
  {
   "cell_type": "markdown",
   "metadata": {},
   "source": [
    "__Normal cross validation__"
   ]
  },
  {
   "cell_type": "code",
   "execution_count": 50,
   "metadata": {},
   "outputs": [
    {
     "data": {
      "text/plain": [
       "fit_time                    0.003449\n",
       "score_time                  0.015462\n",
       "test_accuracy               0.764706\n",
       "train_accuracy              1.000000\n",
       "test_precision_macro        0.776908\n",
       "train_precision_macro       1.000000\n",
       "test_precision_weighted     0.792494\n",
       "train_precision_weighted    1.000000\n",
       "test_recall_macro           0.776965\n",
       "train_recall_macro          1.000000\n",
       "test_recall_weighted        0.764706\n",
       "train_recall_weighted       1.000000\n",
       "test_f1_macro               0.762807\n",
       "train_f1_macro              1.000000\n",
       "test_f1_weighted            0.764462\n",
       "train_f1_weighted           1.000000\n",
       "dtype: float64"
      ]
     },
     "execution_count": 50,
     "metadata": {},
     "output_type": "execute_result"
    }
   ],
   "source": [
    "from sklearn.model_selection import KFold\n",
    "cv2 = KFold(n_splits=5, shuffle=True)\n",
    "scores2 = cross_validate(dt, X, Y, scoring=scoring,\n",
    "                        cv=cv2, return_train_score=True)\n",
    "pd.DataFrame(scores2).mean()"
   ]
  },
  {
   "cell_type": "markdown",
   "metadata": {},
   "source": [
    "## Overfitting"
   ]
  },
  {
   "cell_type": "code",
   "execution_count": 53,
   "metadata": {},
   "outputs": [],
   "source": [
    "from sklearn.tree import DecisionTreeClassifier\n",
    "cv = StratifiedKFold(n_splits=10, random_state=0, shuffle=True)\n",
    "results = {}\n",
    "for leaves in range(2,40):\n",
    "    dt = DecisionTreeClassifier(max_leaf_nodes=leaves,criterion=\"gini\")\n",
    "    local_results = cross_validate(dt, X, Y, scoring=[\"accuracy\"],cv=cv, return_train_score=True)\n",
    "    avg_local_results = pd.DataFrame(local_results).mean()\n",
    "    results[leaves] = avg_local_results\n",
    "results_df = pd.DataFrame(results)"
   ]
  },
  {
   "cell_type": "code",
   "execution_count": 54,
   "metadata": {},
   "outputs": [
    {
     "name": "stderr",
     "output_type": "stream",
     "text": [
      "No handles with labels found to put in legend.\n"
     ]
    },
    {
     "data": {
      "text/plain": [
       "Text(0, 0.5, 'Max Nb. Leaves')"
      ]
     },
     "execution_count": 54,
     "metadata": {},
     "output_type": "execute_result"
    },
    {
     "data": {
      "image/png": "[encoded data removed]",
      "text/plain": [
       "<Figure size 432x288 with 1 Axes>"
      ]
     },
     "metadata": {
      "needs_background": "light"
     },
     "output_type": "display_data"
    }
   ],
   "source": [
    "plt.plot(results_df.T.index , results_df.T[\"test_accuracy\"],\"o--\")\n",
    "plt.plot(results_df.T.index , results_df.T[\"train_accuracy\"],\"o--\")\n",
    "plt.legend()\n",
    "plt.ylabel(\"Accuracy\")\n",
    "plt.ylabel(\"Max Nb. Leaves\")"
   ]
  },
  {
   "cell_type": "markdown",
   "metadata": {},
   "source": [
    "Il y a du sur apprentissage car on gagne sur le jeu d'entrainement mais pas sur le jeu de test"
   ]
  },
  {
   "cell_type": "code",
   "execution_count": null,
   "metadata": {},
   "outputs": [],
   "source": []
  }
 ],
 "metadata": {
  "kernelspec": {
   "display_name": "Python 3",
   "language": "python",
   "name": "python3"
  },
  "language_info": {
   "codemirror_mode": {
    "name": "ipython",
    "version": 3
   },
   "file_extension": ".py",
   "mimetype": "text/x-python",
   "name": "python",
   "nbconvert_exporter": "python",
   "pygments_lexer": "ipython3",
   "version": "3.7.0"
  }
 },
 "nbformat": 4,
 "nbformat_minor": 2
}
